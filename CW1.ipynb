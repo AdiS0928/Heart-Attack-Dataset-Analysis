{
 "cells": [
  {
   "cell_type": "code",
   "execution_count": 1,
   "id": "0675c7f6",
   "metadata": {},
   "outputs": [],
   "source": [
    "import numpy as np \n",
    "import pandas as pd \n",
    "import matplotlib as mb\n",
    "import matplotlib.pyplot as plt\n",
    "import seaborn as sns"
   ]
  },
  {
   "cell_type": "code",
   "execution_count": 2,
   "id": "6136e863",
   "metadata": {},
   "outputs": [],
   "source": [
    "df = pd.read_csv('C:/Users/adith/Downloads/heart.csv')"
   ]
  },
  {
   "cell_type": "code",
   "execution_count": 3,
   "id": "b6393336",
   "metadata": {},
   "outputs": [
    {
     "data": {
      "text/html": [
       "<div>\n",
       "<style scoped>\n",
       "    .dataframe tbody tr th:only-of-type {\n",
       "        vertical-align: middle;\n",
       "    }\n",
       "\n",
       "    .dataframe tbody tr th {\n",
       "        vertical-align: top;\n",
       "    }\n",
       "\n",
       "    .dataframe thead th {\n",
       "        text-align: right;\n",
       "    }\n",
       "</style>\n",
       "<table border=\"1\" class=\"dataframe\">\n",
       "  <thead>\n",
       "    <tr style=\"text-align: right;\">\n",
       "      <th></th>\n",
       "      <th>Age</th>\n",
       "      <th>Sex</th>\n",
       "      <th>ChestPainType</th>\n",
       "      <th>RestingBP</th>\n",
       "      <th>Cholesterol</th>\n",
       "      <th>FastingBS</th>\n",
       "      <th>RestingECG</th>\n",
       "      <th>MaxHR</th>\n",
       "      <th>ExerciseAngina</th>\n",
       "      <th>Oldpeak</th>\n",
       "      <th>ST_Slope</th>\n",
       "      <th>HeartDisease</th>\n",
       "    </tr>\n",
       "  </thead>\n",
       "  <tbody>\n",
       "    <tr>\n",
       "      <th>0</th>\n",
       "      <td>40</td>\n",
       "      <td>M</td>\n",
       "      <td>ATA</td>\n",
       "      <td>140</td>\n",
       "      <td>289</td>\n",
       "      <td>0</td>\n",
       "      <td>Normal</td>\n",
       "      <td>172</td>\n",
       "      <td>N</td>\n",
       "      <td>0.0</td>\n",
       "      <td>Up</td>\n",
       "      <td>0</td>\n",
       "    </tr>\n",
       "    <tr>\n",
       "      <th>1</th>\n",
       "      <td>49</td>\n",
       "      <td>F</td>\n",
       "      <td>NAP</td>\n",
       "      <td>160</td>\n",
       "      <td>180</td>\n",
       "      <td>0</td>\n",
       "      <td>Normal</td>\n",
       "      <td>156</td>\n",
       "      <td>N</td>\n",
       "      <td>1.0</td>\n",
       "      <td>Flat</td>\n",
       "      <td>1</td>\n",
       "    </tr>\n",
       "    <tr>\n",
       "      <th>2</th>\n",
       "      <td>37</td>\n",
       "      <td>M</td>\n",
       "      <td>ATA</td>\n",
       "      <td>130</td>\n",
       "      <td>283</td>\n",
       "      <td>0</td>\n",
       "      <td>ST</td>\n",
       "      <td>98</td>\n",
       "      <td>N</td>\n",
       "      <td>0.0</td>\n",
       "      <td>Up</td>\n",
       "      <td>0</td>\n",
       "    </tr>\n",
       "    <tr>\n",
       "      <th>3</th>\n",
       "      <td>48</td>\n",
       "      <td>F</td>\n",
       "      <td>ASY</td>\n",
       "      <td>138</td>\n",
       "      <td>214</td>\n",
       "      <td>0</td>\n",
       "      <td>Normal</td>\n",
       "      <td>108</td>\n",
       "      <td>Y</td>\n",
       "      <td>1.5</td>\n",
       "      <td>Flat</td>\n",
       "      <td>1</td>\n",
       "    </tr>\n",
       "    <tr>\n",
       "      <th>4</th>\n",
       "      <td>54</td>\n",
       "      <td>M</td>\n",
       "      <td>NAP</td>\n",
       "      <td>150</td>\n",
       "      <td>195</td>\n",
       "      <td>0</td>\n",
       "      <td>Normal</td>\n",
       "      <td>122</td>\n",
       "      <td>N</td>\n",
       "      <td>0.0</td>\n",
       "      <td>Up</td>\n",
       "      <td>0</td>\n",
       "    </tr>\n",
       "    <tr>\n",
       "      <th>5</th>\n",
       "      <td>39</td>\n",
       "      <td>M</td>\n",
       "      <td>NAP</td>\n",
       "      <td>120</td>\n",
       "      <td>339</td>\n",
       "      <td>0</td>\n",
       "      <td>Normal</td>\n",
       "      <td>170</td>\n",
       "      <td>N</td>\n",
       "      <td>0.0</td>\n",
       "      <td>Up</td>\n",
       "      <td>0</td>\n",
       "    </tr>\n",
       "    <tr>\n",
       "      <th>6</th>\n",
       "      <td>45</td>\n",
       "      <td>F</td>\n",
       "      <td>ATA</td>\n",
       "      <td>130</td>\n",
       "      <td>237</td>\n",
       "      <td>0</td>\n",
       "      <td>Normal</td>\n",
       "      <td>170</td>\n",
       "      <td>N</td>\n",
       "      <td>0.0</td>\n",
       "      <td>Up</td>\n",
       "      <td>0</td>\n",
       "    </tr>\n",
       "    <tr>\n",
       "      <th>7</th>\n",
       "      <td>54</td>\n",
       "      <td>M</td>\n",
       "      <td>ATA</td>\n",
       "      <td>110</td>\n",
       "      <td>208</td>\n",
       "      <td>0</td>\n",
       "      <td>Normal</td>\n",
       "      <td>142</td>\n",
       "      <td>N</td>\n",
       "      <td>0.0</td>\n",
       "      <td>Up</td>\n",
       "      <td>0</td>\n",
       "    </tr>\n",
       "    <tr>\n",
       "      <th>8</th>\n",
       "      <td>37</td>\n",
       "      <td>M</td>\n",
       "      <td>ASY</td>\n",
       "      <td>140</td>\n",
       "      <td>207</td>\n",
       "      <td>0</td>\n",
       "      <td>Normal</td>\n",
       "      <td>130</td>\n",
       "      <td>Y</td>\n",
       "      <td>1.5</td>\n",
       "      <td>Flat</td>\n",
       "      <td>1</td>\n",
       "    </tr>\n",
       "    <tr>\n",
       "      <th>9</th>\n",
       "      <td>48</td>\n",
       "      <td>F</td>\n",
       "      <td>ATA</td>\n",
       "      <td>120</td>\n",
       "      <td>284</td>\n",
       "      <td>0</td>\n",
       "      <td>Normal</td>\n",
       "      <td>120</td>\n",
       "      <td>N</td>\n",
       "      <td>0.0</td>\n",
       "      <td>Up</td>\n",
       "      <td>0</td>\n",
       "    </tr>\n",
       "    <tr>\n",
       "      <th>10</th>\n",
       "      <td>37</td>\n",
       "      <td>F</td>\n",
       "      <td>NAP</td>\n",
       "      <td>130</td>\n",
       "      <td>211</td>\n",
       "      <td>0</td>\n",
       "      <td>Normal</td>\n",
       "      <td>142</td>\n",
       "      <td>N</td>\n",
       "      <td>0.0</td>\n",
       "      <td>Up</td>\n",
       "      <td>0</td>\n",
       "    </tr>\n",
       "    <tr>\n",
       "      <th>11</th>\n",
       "      <td>58</td>\n",
       "      <td>M</td>\n",
       "      <td>ATA</td>\n",
       "      <td>136</td>\n",
       "      <td>164</td>\n",
       "      <td>0</td>\n",
       "      <td>ST</td>\n",
       "      <td>99</td>\n",
       "      <td>Y</td>\n",
       "      <td>2.0</td>\n",
       "      <td>Flat</td>\n",
       "      <td>1</td>\n",
       "    </tr>\n",
       "    <tr>\n",
       "      <th>12</th>\n",
       "      <td>39</td>\n",
       "      <td>M</td>\n",
       "      <td>ATA</td>\n",
       "      <td>120</td>\n",
       "      <td>204</td>\n",
       "      <td>0</td>\n",
       "      <td>Normal</td>\n",
       "      <td>145</td>\n",
       "      <td>N</td>\n",
       "      <td>0.0</td>\n",
       "      <td>Up</td>\n",
       "      <td>0</td>\n",
       "    </tr>\n",
       "    <tr>\n",
       "      <th>13</th>\n",
       "      <td>49</td>\n",
       "      <td>M</td>\n",
       "      <td>ASY</td>\n",
       "      <td>140</td>\n",
       "      <td>234</td>\n",
       "      <td>0</td>\n",
       "      <td>Normal</td>\n",
       "      <td>140</td>\n",
       "      <td>Y</td>\n",
       "      <td>1.0</td>\n",
       "      <td>Flat</td>\n",
       "      <td>1</td>\n",
       "    </tr>\n",
       "    <tr>\n",
       "      <th>14</th>\n",
       "      <td>42</td>\n",
       "      <td>F</td>\n",
       "      <td>NAP</td>\n",
       "      <td>115</td>\n",
       "      <td>211</td>\n",
       "      <td>0</td>\n",
       "      <td>ST</td>\n",
       "      <td>137</td>\n",
       "      <td>N</td>\n",
       "      <td>0.0</td>\n",
       "      <td>Up</td>\n",
       "      <td>0</td>\n",
       "    </tr>\n",
       "  </tbody>\n",
       "</table>\n",
       "</div>"
      ],
      "text/plain": [
       "    Age Sex ChestPainType  RestingBP  Cholesterol  FastingBS RestingECG  \\\n",
       "0    40   M           ATA        140          289          0     Normal   \n",
       "1    49   F           NAP        160          180          0     Normal   \n",
       "2    37   M           ATA        130          283          0         ST   \n",
       "3    48   F           ASY        138          214          0     Normal   \n",
       "4    54   M           NAP        150          195          0     Normal   \n",
       "5    39   M           NAP        120          339          0     Normal   \n",
       "6    45   F           ATA        130          237          0     Normal   \n",
       "7    54   M           ATA        110          208          0     Normal   \n",
       "8    37   M           ASY        140          207          0     Normal   \n",
       "9    48   F           ATA        120          284          0     Normal   \n",
       "10   37   F           NAP        130          211          0     Normal   \n",
       "11   58   M           ATA        136          164          0         ST   \n",
       "12   39   M           ATA        120          204          0     Normal   \n",
       "13   49   M           ASY        140          234          0     Normal   \n",
       "14   42   F           NAP        115          211          0         ST   \n",
       "\n",
       "    MaxHR ExerciseAngina  Oldpeak ST_Slope  HeartDisease  \n",
       "0     172              N      0.0       Up             0  \n",
       "1     156              N      1.0     Flat             1  \n",
       "2      98              N      0.0       Up             0  \n",
       "3     108              Y      1.5     Flat             1  \n",
       "4     122              N      0.0       Up             0  \n",
       "5     170              N      0.0       Up             0  \n",
       "6     170              N      0.0       Up             0  \n",
       "7     142              N      0.0       Up             0  \n",
       "8     130              Y      1.5     Flat             1  \n",
       "9     120              N      0.0       Up             0  \n",
       "10    142              N      0.0       Up             0  \n",
       "11     99              Y      2.0     Flat             1  \n",
       "12    145              N      0.0       Up             0  \n",
       "13    140              Y      1.0     Flat             1  \n",
       "14    137              N      0.0       Up             0  "
      ]
     },
     "execution_count": 3,
     "metadata": {},
     "output_type": "execute_result"
    }
   ],
   "source": [
    "df.head(15)"
   ]
  },
  {
   "cell_type": "code",
   "execution_count": 4,
   "id": "ddb79b7e",
   "metadata": {},
   "outputs": [
    {
     "name": "stdout",
     "output_type": "stream",
     "text": [
      "<class 'pandas.core.frame.DataFrame'>\n",
      "RangeIndex: 918 entries, 0 to 917\n",
      "Data columns (total 12 columns):\n",
      " #   Column          Non-Null Count  Dtype  \n",
      "---  ------          --------------  -----  \n",
      " 0   Age             918 non-null    int64  \n",
      " 1   Sex             918 non-null    object \n",
      " 2   ChestPainType   918 non-null    object \n",
      " 3   RestingBP       918 non-null    int64  \n",
      " 4   Cholesterol     918 non-null    int64  \n",
      " 5   FastingBS       918 non-null    int64  \n",
      " 6   RestingECG      918 non-null    object \n",
      " 7   MaxHR           918 non-null    int64  \n",
      " 8   ExerciseAngina  918 non-null    object \n",
      " 9   Oldpeak         918 non-null    float64\n",
      " 10  ST_Slope        918 non-null    object \n",
      " 11  HeartDisease    918 non-null    int64  \n",
      "dtypes: float64(1), int64(6), object(5)\n",
      "memory usage: 86.2+ KB\n"
     ]
    }
   ],
   "source": [
    "df.info()\n"
   ]
  },
  {
   "cell_type": "code",
   "execution_count": 5,
   "id": "1c0639f9",
   "metadata": {},
   "outputs": [
    {
     "data": {
      "text/plain": [
       "Age               0\n",
       "Sex               0\n",
       "ChestPainType     0\n",
       "RestingBP         0\n",
       "Cholesterol       0\n",
       "FastingBS         0\n",
       "RestingECG        0\n",
       "MaxHR             0\n",
       "ExerciseAngina    0\n",
       "Oldpeak           0\n",
       "ST_Slope          0\n",
       "HeartDisease      0\n",
       "dtype: int64"
      ]
     },
     "execution_count": 5,
     "metadata": {},
     "output_type": "execute_result"
    }
   ],
   "source": [
    "df.isnull().sum()"
   ]
  },
  {
   "cell_type": "code",
   "execution_count": 6,
   "id": "3235f140",
   "metadata": {},
   "outputs": [
    {
     "data": {
      "text/html": [
       "<div>\n",
       "<style scoped>\n",
       "    .dataframe tbody tr th:only-of-type {\n",
       "        vertical-align: middle;\n",
       "    }\n",
       "\n",
       "    .dataframe tbody tr th {\n",
       "        vertical-align: top;\n",
       "    }\n",
       "\n",
       "    .dataframe thead th {\n",
       "        text-align: right;\n",
       "    }\n",
       "</style>\n",
       "<table border=\"1\" class=\"dataframe\">\n",
       "  <thead>\n",
       "    <tr style=\"text-align: right;\">\n",
       "      <th></th>\n",
       "      <th>Sex</th>\n",
       "    </tr>\n",
       "  </thead>\n",
       "  <tbody>\n",
       "    <tr>\n",
       "      <th>0</th>\n",
       "      <td>M</td>\n",
       "    </tr>\n",
       "    <tr>\n",
       "      <th>1</th>\n",
       "      <td>F</td>\n",
       "    </tr>\n",
       "    <tr>\n",
       "      <th>2</th>\n",
       "      <td>M</td>\n",
       "    </tr>\n",
       "    <tr>\n",
       "      <th>3</th>\n",
       "      <td>F</td>\n",
       "    </tr>\n",
       "    <tr>\n",
       "      <th>4</th>\n",
       "      <td>M</td>\n",
       "    </tr>\n",
       "    <tr>\n",
       "      <th>5</th>\n",
       "      <td>M</td>\n",
       "    </tr>\n",
       "    <tr>\n",
       "      <th>6</th>\n",
       "      <td>F</td>\n",
       "    </tr>\n",
       "    <tr>\n",
       "      <th>7</th>\n",
       "      <td>M</td>\n",
       "    </tr>\n",
       "    <tr>\n",
       "      <th>8</th>\n",
       "      <td>M</td>\n",
       "    </tr>\n",
       "    <tr>\n",
       "      <th>9</th>\n",
       "      <td>F</td>\n",
       "    </tr>\n",
       "  </tbody>\n",
       "</table>\n",
       "</div>"
      ],
      "text/plain": [
       "  Sex\n",
       "0   M\n",
       "1   F\n",
       "2   M\n",
       "3   F\n",
       "4   M\n",
       "5   M\n",
       "6   F\n",
       "7   M\n",
       "8   M\n",
       "9   F"
      ]
     },
     "execution_count": 6,
     "metadata": {},
     "output_type": "execute_result"
    }
   ],
   "source": [
    "df_gen = df[[\"Sex\"]]\n",
    "df_gen.head(10)"
   ]
  },
  {
   "cell_type": "code",
   "execution_count": 7,
   "id": "c430c07d",
   "metadata": {},
   "outputs": [
    {
     "data": {
      "text/html": [
       "<div>\n",
       "<style scoped>\n",
       "    .dataframe tbody tr th:only-of-type {\n",
       "        vertical-align: middle;\n",
       "    }\n",
       "\n",
       "    .dataframe tbody tr th {\n",
       "        vertical-align: top;\n",
       "    }\n",
       "\n",
       "    .dataframe thead th {\n",
       "        text-align: right;\n",
       "    }\n",
       "</style>\n",
       "<table border=\"1\" class=\"dataframe\">\n",
       "  <thead>\n",
       "    <tr style=\"text-align: right;\">\n",
       "      <th></th>\n",
       "      <th>Age</th>\n",
       "      <th>RestingBP</th>\n",
       "      <th>Cholesterol</th>\n",
       "      <th>FastingBS</th>\n",
       "      <th>MaxHR</th>\n",
       "      <th>Oldpeak</th>\n",
       "      <th>HeartDisease</th>\n",
       "    </tr>\n",
       "  </thead>\n",
       "  <tbody>\n",
       "    <tr>\n",
       "      <th>count</th>\n",
       "      <td>918.000000</td>\n",
       "      <td>918.000000</td>\n",
       "      <td>918.000000</td>\n",
       "      <td>918.000000</td>\n",
       "      <td>918.000000</td>\n",
       "      <td>918.000000</td>\n",
       "      <td>918.000000</td>\n",
       "    </tr>\n",
       "    <tr>\n",
       "      <th>mean</th>\n",
       "      <td>53.510893</td>\n",
       "      <td>132.396514</td>\n",
       "      <td>198.799564</td>\n",
       "      <td>0.233115</td>\n",
       "      <td>136.809368</td>\n",
       "      <td>0.887364</td>\n",
       "      <td>0.553377</td>\n",
       "    </tr>\n",
       "    <tr>\n",
       "      <th>std</th>\n",
       "      <td>9.432617</td>\n",
       "      <td>18.514154</td>\n",
       "      <td>109.384145</td>\n",
       "      <td>0.423046</td>\n",
       "      <td>25.460334</td>\n",
       "      <td>1.066570</td>\n",
       "      <td>0.497414</td>\n",
       "    </tr>\n",
       "    <tr>\n",
       "      <th>min</th>\n",
       "      <td>28.000000</td>\n",
       "      <td>0.000000</td>\n",
       "      <td>0.000000</td>\n",
       "      <td>0.000000</td>\n",
       "      <td>60.000000</td>\n",
       "      <td>-2.600000</td>\n",
       "      <td>0.000000</td>\n",
       "    </tr>\n",
       "    <tr>\n",
       "      <th>25%</th>\n",
       "      <td>47.000000</td>\n",
       "      <td>120.000000</td>\n",
       "      <td>173.250000</td>\n",
       "      <td>0.000000</td>\n",
       "      <td>120.000000</td>\n",
       "      <td>0.000000</td>\n",
       "      <td>0.000000</td>\n",
       "    </tr>\n",
       "    <tr>\n",
       "      <th>50%</th>\n",
       "      <td>54.000000</td>\n",
       "      <td>130.000000</td>\n",
       "      <td>223.000000</td>\n",
       "      <td>0.000000</td>\n",
       "      <td>138.000000</td>\n",
       "      <td>0.600000</td>\n",
       "      <td>1.000000</td>\n",
       "    </tr>\n",
       "    <tr>\n",
       "      <th>75%</th>\n",
       "      <td>60.000000</td>\n",
       "      <td>140.000000</td>\n",
       "      <td>267.000000</td>\n",
       "      <td>0.000000</td>\n",
       "      <td>156.000000</td>\n",
       "      <td>1.500000</td>\n",
       "      <td>1.000000</td>\n",
       "    </tr>\n",
       "    <tr>\n",
       "      <th>max</th>\n",
       "      <td>77.000000</td>\n",
       "      <td>200.000000</td>\n",
       "      <td>603.000000</td>\n",
       "      <td>1.000000</td>\n",
       "      <td>202.000000</td>\n",
       "      <td>6.200000</td>\n",
       "      <td>1.000000</td>\n",
       "    </tr>\n",
       "  </tbody>\n",
       "</table>\n",
       "</div>"
      ],
      "text/plain": [
       "              Age   RestingBP  Cholesterol   FastingBS       MaxHR  \\\n",
       "count  918.000000  918.000000   918.000000  918.000000  918.000000   \n",
       "mean    53.510893  132.396514   198.799564    0.233115  136.809368   \n",
       "std      9.432617   18.514154   109.384145    0.423046   25.460334   \n",
       "min     28.000000    0.000000     0.000000    0.000000   60.000000   \n",
       "25%     47.000000  120.000000   173.250000    0.000000  120.000000   \n",
       "50%     54.000000  130.000000   223.000000    0.000000  138.000000   \n",
       "75%     60.000000  140.000000   267.000000    0.000000  156.000000   \n",
       "max     77.000000  200.000000   603.000000    1.000000  202.000000   \n",
       "\n",
       "          Oldpeak  HeartDisease  \n",
       "count  918.000000    918.000000  \n",
       "mean     0.887364      0.553377  \n",
       "std      1.066570      0.497414  \n",
       "min     -2.600000      0.000000  \n",
       "25%      0.000000      0.000000  \n",
       "50%      0.600000      1.000000  \n",
       "75%      1.500000      1.000000  \n",
       "max      6.200000      1.000000  "
      ]
     },
     "execution_count": 7,
     "metadata": {},
     "output_type": "execute_result"
    }
   ],
   "source": [
    "df.describe()"
   ]
  },
  {
   "cell_type": "markdown",
   "id": "c6c526da",
   "metadata": {},
   "source": [
    "# DATA VISUALIZATION"
   ]
  },
  {
   "cell_type": "code",
   "execution_count": 144,
   "id": "8a3ea31a",
   "metadata": {},
   "outputs": [
    {
     "data": {
      "image/png": "[encoded data removed]",
      "text/plain": [
       "<Figure size 1440x1080 with 20 Axes>"
      ]
     },
     "metadata": {
      "needs_background": "light"
     },
     "output_type": "display_data"
    }
   ],
   "source": [
    "df.hist(bins=40, figsize=(20,15))\n",
    "plt.show()"
   ]
  },
  {
   "cell_type": "code",
   "execution_count": 9,
   "id": "f7d3030c",
   "metadata": {},
   "outputs": [
    {
     "data": {
      "text/plain": [
       "<AxesSubplot:xlabel='Sex', ylabel='Count'>"
      ]
     },
     "execution_count": 9,
     "metadata": {},
     "output_type": "execute_result"
    },
    {
     "data": {
      "image/png": "[encoded data removed]",
      "text/plain": [
       "<Figure size 432x288 with 1 Axes>"
      ]
     },
     "metadata": {
      "needs_background": "light"
     },
     "output_type": "display_data"
    }
   ],
   "source": [
    "sns.histplot(x=df['Sex'],data=df, hue='HeartDisease',alpha=0.2)"
   ]
  },
  {
   "cell_type": "code",
   "execution_count": 10,
   "id": "0a4542dd",
   "metadata": {},
   "outputs": [
    {
     "data": {
      "text/plain": [
       "<AxesSubplot:xlabel='ChestPainType', ylabel='Count'>"
      ]
     },
     "execution_count": 10,
     "metadata": {},
     "output_type": "execute_result"
    },
    {
     "data": {
      "image/png": "[encoded data removed]",
      "text/plain": [
       "<Figure size 432x288 with 1 Axes>"
      ]
     },
     "metadata": {
      "needs_background": "light"
     },
     "output_type": "display_data"
    }
   ],
   "source": [
    "sns.histplot(x=df['ChestPainType'],data=df, hue='HeartDisease',alpha=0.2) "
   ]
  },
  {
   "cell_type": "code",
   "execution_count": 11,
   "id": "5ff07197",
   "metadata": {},
   "outputs": [
    {
     "data": {
      "text/plain": [
       "<AxesSubplot:xlabel='RestingECG', ylabel='Count'>"
      ]
     },
     "execution_count": 11,
     "metadata": {},
     "output_type": "execute_result"
    },
    {
     "data": {
      "image/png": "[encoded data removed]",
      "text/plain": [
       "<Figure size 432x288 with 1 Axes>"
      ]
     },
     "metadata": {
      "needs_background": "light"
     },
     "output_type": "display_data"
    }
   ],
   "source": [
    "sns.histplot(x=df['RestingECG'],data=df, hue='HeartDisease',alpha=0.2) "
   ]
  },
  {
   "cell_type": "code",
   "execution_count": 12,
   "id": "dc4313b0",
   "metadata": {},
   "outputs": [
    {
     "data": {
      "text/plain": [
       "<AxesSubplot:xlabel='ExerciseAngina', ylabel='Count'>"
      ]
     },
     "execution_count": 12,
     "metadata": {},
     "output_type": "execute_result"
    },
    {
     "data": {
      "image/png": "[encoded data removed]",
      "text/plain": [
       "<Figure size 432x288 with 1 Axes>"
      ]
     },
     "metadata": {
      "needs_background": "light"
     },
     "output_type": "display_data"
    }
   ],
   "source": [
    "sns.histplot(x=df['ExerciseAngina'],data=df, hue='HeartDisease',alpha=0.2) "
   ]
  },
  {
   "cell_type": "code",
   "execution_count": 13,
   "id": "db0ffd1d",
   "metadata": {},
   "outputs": [
    {
     "data": {
      "text/plain": [
       "<AxesSubplot:xlabel='Age'>"
      ]
     },
     "execution_count": 13,
     "metadata": {},
     "output_type": "execute_result"
    },
    {
     "data": {
      "image/png": "[encoded data removed]",
      "text/plain": [
       "<Figure size 432x288 with 1 Axes>"
      ]
     },
     "metadata": {
      "needs_background": "light"
     },
     "output_type": "display_data"
    }
   ],
   "source": [
    "sns.boxplot(x=df['Age'], data=df, hue='HeartDisease',y=[\"\"]*len(df),palette=['#8abbd0','#F97A1F'],boxprops=dict(alpha=.3))"
   ]
  },
  {
   "cell_type": "code",
   "execution_count": 14,
   "id": "39b7bcb5",
   "metadata": {},
   "outputs": [
    {
     "data": {
      "text/plain": [
       "<AxesSubplot:xlabel='RestingBP'>"
      ]
     },
     "execution_count": 14,
     "metadata": {},
     "output_type": "execute_result"
    },
    {
     "data": {
      "image/png": "[encoded data removed]",
      "text/plain": [
       "<Figure size 432x288 with 1 Axes>"
      ]
     },
     "metadata": {
      "needs_background": "light"
     },
     "output_type": "display_data"
    }
   ],
   "source": [
    "sns.boxplot(x=df['RestingBP'], data=df, hue='HeartDisease',y=[\"\"]*len(df),palette=['#8abbd0','#F97A1F'],boxprops=dict(alpha=.3))"
   ]
  },
  {
   "cell_type": "code",
   "execution_count": 15,
   "id": "31c376a1",
   "metadata": {},
   "outputs": [
    {
     "data": {
      "text/plain": [
       "<AxesSubplot:xlabel='MaxHR'>"
      ]
     },
     "execution_count": 15,
     "metadata": {},
     "output_type": "execute_result"
    },
    {
     "data": {
      "image/png": "[encoded data removed]",
      "text/plain": [
       "<Figure size 432x288 with 1 Axes>"
      ]
     },
     "metadata": {
      "needs_background": "light"
     },
     "output_type": "display_data"
    }
   ],
   "source": [
    "sns.boxplot(x=df['MaxHR'], data=df, hue='HeartDisease',y=[\"\"]*len(df),palette=['#8abbd0','#F97A1F'],boxprops=dict(alpha=.3))"
   ]
  },
  {
   "cell_type": "code",
   "execution_count": 16,
   "id": "37312481",
   "metadata": {},
   "outputs": [
    {
     "data": {
      "text/plain": [
       "<AxesSubplot:xlabel='FastingBS'>"
      ]
     },
     "execution_count": 16,
     "metadata": {},
     "output_type": "execute_result"
    },
    {
     "data": {
      "image/png": "[encoded data removed]",
      "text/plain": [
       "<Figure size 432x288 with 1 Axes>"
      ]
     },
     "metadata": {
      "needs_background": "light"
     },
     "output_type": "display_data"
    }
   ],
   "source": [
    "sns.boxplot(x=df['FastingBS'], data=df, hue='HeartDisease',y=[\"\"]*len(df),palette=['#8abbd0','#F97A1F'],boxprops=dict(alpha=.3))"
   ]
  },
  {
   "cell_type": "code",
   "execution_count": 17,
   "id": "64405d47",
   "metadata": {},
   "outputs": [
    {
     "data": {
      "text/plain": [
       "<AxesSubplot:xlabel='Cholesterol'>"
      ]
     },
     "execution_count": 17,
     "metadata": {},
     "output_type": "execute_result"
    },
    {
     "data": {
      "image/png": "[encoded data removed]",
      "text/plain": [
       "<Figure size 432x288 with 1 Axes>"
      ]
     },
     "metadata": {
      "needs_background": "light"
     },
     "output_type": "display_data"
    }
   ],
   "source": [
    "sns.boxplot(x=df['Cholesterol'], data=df, hue='HeartDisease',y=[\"\"]*len(df),palette=['#8abbd0','#F97A1F'],boxprops=dict(alpha=.3))"
   ]
  },
  {
   "cell_type": "code",
   "execution_count": 18,
   "id": "a3986dc3",
   "metadata": {},
   "outputs": [
    {
     "data": {
      "text/plain": [
       "<AxesSubplot:xlabel='Oldpeak'>"
      ]
     },
     "execution_count": 18,
     "metadata": {},
     "output_type": "execute_result"
    },
    {
     "data": {
      "image/png": "[encoded data removed]",
      "text/plain": [
       "<Figure size 432x288 with 1 Axes>"
      ]
     },
     "metadata": {
      "needs_background": "light"
     },
     "output_type": "display_data"
    }
   ],
   "source": [
    "sns.boxplot(x=df['Oldpeak'], data=df, hue='HeartDisease',y=[\"\"]*len(df),palette=['#8abbd0','#F97A1F'],boxprops=dict(alpha=.3))"
   ]
  },
  {
   "cell_type": "code",
   "execution_count": 19,
   "id": "6ef1dcc5",
   "metadata": {},
   "outputs": [
    {
     "data": {
      "text/plain": [
       "<AxesSubplot:xlabel='Age', ylabel='Cholesterol'>"
      ]
     },
     "execution_count": 19,
     "metadata": {},
     "output_type": "execute_result"
    },
    {
     "data": {
      "image/png": "[encoded data removed]",
      "text/plain": [
       "<Figure size 432x288 with 1 Axes>"
      ]
     },
     "metadata": {
      "needs_background": "light"
     },
     "output_type": "display_data"
    }
   ],
   "source": [
    "df.plot(kind=\"scatter\", x=\"Age\", y=\"Cholesterol\")"
   ]
  },
  {
   "cell_type": "code",
   "execution_count": 20,
   "id": "1c3fb427",
   "metadata": {},
   "outputs": [
    {
     "data": {
      "text/plain": [
       "<AxesSubplot:xlabel='Age', ylabel='MaxHR'>"
      ]
     },
     "execution_count": 20,
     "metadata": {},
     "output_type": "execute_result"
    },
    {
     "data": {
      "image/png": "[encoded data removed]",
      "text/plain": [
       "<Figure size 432x288 with 1 Axes>"
      ]
     },
     "metadata": {
      "needs_background": "light"
     },
     "output_type": "display_data"
    }
   ],
   "source": [
    "df.plot(kind=\"scatter\", x=\"Age\", y=\"MaxHR\")"
   ]
  },
  {
   "cell_type": "code",
   "execution_count": 21,
   "id": "03405b35",
   "metadata": {},
   "outputs": [
    {
     "data": {
      "text/plain": [
       "<AxesSubplot:xlabel='Age', ylabel='RestingBP'>"
      ]
     },
     "execution_count": 21,
     "metadata": {},
     "output_type": "execute_result"
    },
    {
     "data": {
      "image/png": "[encoded data removed]",
      "text/plain": [
       "<Figure size 432x288 with 1 Axes>"
      ]
     },
     "metadata": {
      "needs_background": "light"
     },
     "output_type": "display_data"
    }
   ],
   "source": [
    "df.plot(kind=\"scatter\", x=\"Age\", y=\"RestingBP\")"
   ]
  },
  {
   "cell_type": "code",
   "execution_count": 22,
   "id": "e4ca4468",
   "metadata": {},
   "outputs": [
    {
     "data": {
      "text/plain": [
       "<AxesSubplot:xlabel='Age', ylabel='FastingBS'>"
      ]
     },
     "execution_count": 22,
     "metadata": {},
     "output_type": "execute_result"
    },
    {
     "data": {
      "image/png": "[encoded data removed]",
      "text/plain": [
       "<Figure size 432x288 with 1 Axes>"
      ]
     },
     "metadata": {
      "needs_background": "light"
     },
     "output_type": "display_data"
    }
   ],
   "source": [
    "df.plot(kind=\"scatter\", x=\"Age\", y=\"FastingBS\")"
   ]
  },
  {
   "cell_type": "code",
   "execution_count": 23,
   "id": "bbcdfdb0",
   "metadata": {},
   "outputs": [
    {
     "data": {
      "text/plain": [
       "<AxesSubplot:xlabel='Age', ylabel='MaxHR'>"
      ]
     },
     "execution_count": 23,
     "metadata": {},
     "output_type": "execute_result"
    },
    {
     "data": {
      "image/png": "[encoded data removed]",
      "text/plain": [
       "<Figure size 432x288 with 1 Axes>"
      ]
     },
     "metadata": {
      "needs_background": "light"
     },
     "output_type": "display_data"
    }
   ],
   "source": [
    "df.plot(kind=\"scatter\", x=\"Age\", y=\"MaxHR\")"
   ]
  },
  {
   "cell_type": "code",
   "execution_count": 24,
   "id": "07faa265",
   "metadata": {},
   "outputs": [
    {
     "data": {
      "text/plain": [
       "(918, 12)"
      ]
     },
     "execution_count": 24,
     "metadata": {},
     "output_type": "execute_result"
    }
   ],
   "source": [
    "df.shape\n"
   ]
  },
  {
   "cell_type": "code",
   "execution_count": 25,
   "id": "4b9b33f3",
   "metadata": {},
   "outputs": [
    {
     "data": {
      "text/html": [
       "<div>\n",
       "<style scoped>\n",
       "    .dataframe tbody tr th:only-of-type {\n",
       "        vertical-align: middle;\n",
       "    }\n",
       "\n",
       "    .dataframe tbody tr th {\n",
       "        vertical-align: top;\n",
       "    }\n",
       "\n",
       "    .dataframe thead th {\n",
       "        text-align: right;\n",
       "    }\n",
       "</style>\n",
       "<table border=\"1\" class=\"dataframe\">\n",
       "  <thead>\n",
       "    <tr style=\"text-align: right;\">\n",
       "      <th></th>\n",
       "      <th>Age</th>\n",
       "      <th>RestingBP</th>\n",
       "      <th>Cholesterol</th>\n",
       "      <th>FastingBS</th>\n",
       "      <th>MaxHR</th>\n",
       "      <th>Oldpeak</th>\n",
       "      <th>HeartDisease</th>\n",
       "      <th>Sex_M</th>\n",
       "      <th>ChestPainType_ATA</th>\n",
       "      <th>ChestPainType_NAP</th>\n",
       "      <th>ChestPainType_TA</th>\n",
       "      <th>RestingECG_Normal</th>\n",
       "      <th>RestingECG_ST</th>\n",
       "      <th>ExerciseAngina_Y</th>\n",
       "      <th>ST_Slope_Flat</th>\n",
       "      <th>ST_Slope_Up</th>\n",
       "    </tr>\n",
       "  </thead>\n",
       "  <tbody>\n",
       "    <tr>\n",
       "      <th>0</th>\n",
       "      <td>40</td>\n",
       "      <td>140</td>\n",
       "      <td>289</td>\n",
       "      <td>0</td>\n",
       "      <td>172</td>\n",
       "      <td>0.0</td>\n",
       "      <td>0</td>\n",
       "      <td>1</td>\n",
       "      <td>1</td>\n",
       "      <td>0</td>\n",
       "      <td>0</td>\n",
       "      <td>1</td>\n",
       "      <td>0</td>\n",
       "      <td>0</td>\n",
       "      <td>0</td>\n",
       "      <td>1</td>\n",
       "    </tr>\n",
       "    <tr>\n",
       "      <th>1</th>\n",
       "      <td>49</td>\n",
       "      <td>160</td>\n",
       "      <td>180</td>\n",
       "      <td>0</td>\n",
       "      <td>156</td>\n",
       "      <td>1.0</td>\n",
       "      <td>1</td>\n",
       "      <td>0</td>\n",
       "      <td>0</td>\n",
       "      <td>1</td>\n",
       "      <td>0</td>\n",
       "      <td>1</td>\n",
       "      <td>0</td>\n",
       "      <td>0</td>\n",
       "      <td>1</td>\n",
       "      <td>0</td>\n",
       "    </tr>\n",
       "    <tr>\n",
       "      <th>2</th>\n",
       "      <td>37</td>\n",
       "      <td>130</td>\n",
       "      <td>283</td>\n",
       "      <td>0</td>\n",
       "      <td>98</td>\n",
       "      <td>0.0</td>\n",
       "      <td>0</td>\n",
       "      <td>1</td>\n",
       "      <td>1</td>\n",
       "      <td>0</td>\n",
       "      <td>0</td>\n",
       "      <td>0</td>\n",
       "      <td>1</td>\n",
       "      <td>0</td>\n",
       "      <td>0</td>\n",
       "      <td>1</td>\n",
       "    </tr>\n",
       "    <tr>\n",
       "      <th>3</th>\n",
       "      <td>48</td>\n",
       "      <td>138</td>\n",
       "      <td>214</td>\n",
       "      <td>0</td>\n",
       "      <td>108</td>\n",
       "      <td>1.5</td>\n",
       "      <td>1</td>\n",
       "      <td>0</td>\n",
       "      <td>0</td>\n",
       "      <td>0</td>\n",
       "      <td>0</td>\n",
       "      <td>1</td>\n",
       "      <td>0</td>\n",
       "      <td>1</td>\n",
       "      <td>1</td>\n",
       "      <td>0</td>\n",
       "    </tr>\n",
       "    <tr>\n",
       "      <th>4</th>\n",
       "      <td>54</td>\n",
       "      <td>150</td>\n",
       "      <td>195</td>\n",
       "      <td>0</td>\n",
       "      <td>122</td>\n",
       "      <td>0.0</td>\n",
       "      <td>0</td>\n",
       "      <td>1</td>\n",
       "      <td>0</td>\n",
       "      <td>1</td>\n",
       "      <td>0</td>\n",
       "      <td>1</td>\n",
       "      <td>0</td>\n",
       "      <td>0</td>\n",
       "      <td>0</td>\n",
       "      <td>1</td>\n",
       "    </tr>\n",
       "    <tr>\n",
       "      <th>5</th>\n",
       "      <td>39</td>\n",
       "      <td>120</td>\n",
       "      <td>339</td>\n",
       "      <td>0</td>\n",
       "      <td>170</td>\n",
       "      <td>0.0</td>\n",
       "      <td>0</td>\n",
       "      <td>1</td>\n",
       "      <td>0</td>\n",
       "      <td>1</td>\n",
       "      <td>0</td>\n",
       "      <td>1</td>\n",
       "      <td>0</td>\n",
       "      <td>0</td>\n",
       "      <td>0</td>\n",
       "      <td>1</td>\n",
       "    </tr>\n",
       "    <tr>\n",
       "      <th>6</th>\n",
       "      <td>45</td>\n",
       "      <td>130</td>\n",
       "      <td>237</td>\n",
       "      <td>0</td>\n",
       "      <td>170</td>\n",
       "      <td>0.0</td>\n",
       "      <td>0</td>\n",
       "      <td>0</td>\n",
       "      <td>1</td>\n",
       "      <td>0</td>\n",
       "      <td>0</td>\n",
       "      <td>1</td>\n",
       "      <td>0</td>\n",
       "      <td>0</td>\n",
       "      <td>0</td>\n",
       "      <td>1</td>\n",
       "    </tr>\n",
       "    <tr>\n",
       "      <th>7</th>\n",
       "      <td>54</td>\n",
       "      <td>110</td>\n",
       "      <td>208</td>\n",
       "      <td>0</td>\n",
       "      <td>142</td>\n",
       "      <td>0.0</td>\n",
       "      <td>0</td>\n",
       "      <td>1</td>\n",
       "      <td>1</td>\n",
       "      <td>0</td>\n",
       "      <td>0</td>\n",
       "      <td>1</td>\n",
       "      <td>0</td>\n",
       "      <td>0</td>\n",
       "      <td>0</td>\n",
       "      <td>1</td>\n",
       "    </tr>\n",
       "    <tr>\n",
       "      <th>8</th>\n",
       "      <td>37</td>\n",
       "      <td>140</td>\n",
       "      <td>207</td>\n",
       "      <td>0</td>\n",
       "      <td>130</td>\n",
       "      <td>1.5</td>\n",
       "      <td>1</td>\n",
       "      <td>1</td>\n",
       "      <td>0</td>\n",
       "      <td>0</td>\n",
       "      <td>0</td>\n",
       "      <td>1</td>\n",
       "      <td>0</td>\n",
       "      <td>1</td>\n",
       "      <td>1</td>\n",
       "      <td>0</td>\n",
       "    </tr>\n",
       "    <tr>\n",
       "      <th>9</th>\n",
       "      <td>48</td>\n",
       "      <td>120</td>\n",
       "      <td>284</td>\n",
       "      <td>0</td>\n",
       "      <td>120</td>\n",
       "      <td>0.0</td>\n",
       "      <td>0</td>\n",
       "      <td>0</td>\n",
       "      <td>1</td>\n",
       "      <td>0</td>\n",
       "      <td>0</td>\n",
       "      <td>1</td>\n",
       "      <td>0</td>\n",
       "      <td>0</td>\n",
       "      <td>0</td>\n",
       "      <td>1</td>\n",
       "    </tr>\n",
       "  </tbody>\n",
       "</table>\n",
       "</div>"
      ],
      "text/plain": [
       "   Age  RestingBP  Cholesterol  FastingBS  MaxHR  Oldpeak  HeartDisease  \\\n",
       "0   40        140          289          0    172      0.0             0   \n",
       "1   49        160          180          0    156      1.0             1   \n",
       "2   37        130          283          0     98      0.0             0   \n",
       "3   48        138          214          0    108      1.5             1   \n",
       "4   54        150          195          0    122      0.0             0   \n",
       "5   39        120          339          0    170      0.0             0   \n",
       "6   45        130          237          0    170      0.0             0   \n",
       "7   54        110          208          0    142      0.0             0   \n",
       "8   37        140          207          0    130      1.5             1   \n",
       "9   48        120          284          0    120      0.0             0   \n",
       "\n",
       "   Sex_M  ChestPainType_ATA  ChestPainType_NAP  ChestPainType_TA  \\\n",
       "0      1                  1                  0                 0   \n",
       "1      0                  0                  1                 0   \n",
       "2      1                  1                  0                 0   \n",
       "3      0                  0                  0                 0   \n",
       "4      1                  0                  1                 0   \n",
       "5      1                  0                  1                 0   \n",
       "6      0                  1                  0                 0   \n",
       "7      1                  1                  0                 0   \n",
       "8      1                  0                  0                 0   \n",
       "9      0                  1                  0                 0   \n",
       "\n",
       "   RestingECG_Normal  RestingECG_ST  ExerciseAngina_Y  ST_Slope_Flat  \\\n",
       "0                  1              0                 0              0   \n",
       "1                  1              0                 0              1   \n",
       "2                  0              1                 0              0   \n",
       "3                  1              0                 1              1   \n",
       "4                  1              0                 0              0   \n",
       "5                  1              0                 0              0   \n",
       "6                  1              0                 0              0   \n",
       "7                  1              0                 0              0   \n",
       "8                  1              0                 1              1   \n",
       "9                  1              0                 0              0   \n",
       "\n",
       "   ST_Slope_Up  \n",
       "0            1  \n",
       "1            0  \n",
       "2            1  \n",
       "3            0  \n",
       "4            1  \n",
       "5            1  \n",
       "6            1  \n",
       "7            1  \n",
       "8            0  \n",
       "9            1  "
      ]
     },
     "execution_count": 25,
     "metadata": {},
     "output_type": "execute_result"
    }
   ],
   "source": [
    "df['FastingBS'] = df['FastingBS'].astype(int)\n",
    "\n",
    "categ = df.select_dtypes(include=object).columns\n",
    "\n",
    "\n",
    "df = pd.get_dummies(df, columns=categ, drop_first=True)  \n",
    "\n",
    "df.head(10)"
   ]
  },
  {
   "cell_type": "code",
   "execution_count": 26,
   "id": "3283778c",
   "metadata": {},
   "outputs": [
    {
     "name": "stdout",
     "output_type": "stream",
     "text": [
      "[[1.4331398  0.41090889 0.82507026 ... 0.8235563  1.00218103 1.15067399]\n",
      " [0.47848359 1.49175234 0.17196105 ... 0.8235563  0.99782372 0.86905588]\n",
      " [1.75135854 0.12951283 0.7701878  ... 0.8235563  1.00218103 1.15067399]\n",
      " ...\n",
      " [0.37009972 0.12951283 0.62016778 ... 1.21424608 0.99782372 0.86905588]\n",
      " [0.37009972 0.12951283 0.34027522 ... 0.8235563  0.99782372 0.86905588]\n",
      " [1.64528563 0.30282455 0.21769643 ... 0.8235563  1.00218103 1.15067399]]\n"
     ]
    }
   ],
   "source": [
    "from scipy import stats\n",
    "z = np.abs(stats.zscore(df))\n",
    "print(z)"
   ]
  },
  {
   "cell_type": "code",
   "execution_count": 27,
   "id": "f112d1e6",
   "metadata": {},
   "outputs": [],
   "source": [
    "df = df[(z < 3).all(axis=1)]"
   ]
  },
  {
   "cell_type": "code",
   "execution_count": 28,
   "id": "5ee91690",
   "metadata": {},
   "outputs": [
    {
     "data": {
      "text/plain": [
       "(854, 16)"
      ]
     },
     "execution_count": 28,
     "metadata": {},
     "output_type": "execute_result"
    }
   ],
   "source": [
    "df.shape"
   ]
  },
  {
   "cell_type": "code",
   "execution_count": 29,
   "id": "07083e5a",
   "metadata": {},
   "outputs": [
    {
     "data": {
      "text/plain": [
       "<AxesSubplot:xlabel='Age', ylabel='RestingBP'>"
      ]
     },
     "execution_count": 29,
     "metadata": {},
     "output_type": "execute_result"
    },
    {
     "data": {
      "image/png": "[encoded data removed]",
      "text/plain": [
       "<Figure size 432x288 with 1 Axes>"
      ]
     },
     "metadata": {
      "needs_background": "light"
     },
     "output_type": "display_data"
    }
   ],
   "source": [
    "df.plot(kind=\"scatter\", x=\"Age\", y=\"RestingBP\")"
   ]
  },
  {
   "cell_type": "code",
   "execution_count": 30,
   "id": "080a7ca7",
   "metadata": {},
   "outputs": [
    {
     "data": {
      "text/plain": [
       "<AxesSubplot:xlabel='Age', ylabel='Oldpeak'>"
      ]
     },
     "execution_count": 30,
     "metadata": {},
     "output_type": "execute_result"
    },
    {
     "data": {
      "image/png": "[encoded data removed]",
      "text/plain": [
       "<Figure size 432x288 with 1 Axes>"
      ]
     },
     "metadata": {
      "needs_background": "light"
     },
     "output_type": "display_data"
    }
   ],
   "source": [
    "df.plot(kind=\"scatter\", x=\"Age\", y=\"Oldpeak\")"
   ]
  },
  {
   "cell_type": "code",
   "execution_count": 31,
   "id": "82d063b6",
   "metadata": {},
   "outputs": [
    {
     "data": {
      "text/plain": [
       "<AxesSubplot:xlabel='Age', ylabel='Cholesterol'>"
      ]
     },
     "execution_count": 31,
     "metadata": {},
     "output_type": "execute_result"
    },
    {
     "data": {
      "image/png": "[encoded data removed]",
      "text/plain": [
       "<Figure size 432x288 with 1 Axes>"
      ]
     },
     "metadata": {
      "needs_background": "light"
     },
     "output_type": "display_data"
    }
   ],
   "source": [
    "df.plot(kind=\"scatter\", x=\"Age\", y=\"Cholesterol\")"
   ]
  },
  {
   "cell_type": "code",
   "execution_count": 32,
   "id": "fb10b6f1",
   "metadata": {},
   "outputs": [
    {
     "data": {
      "text/plain": [
       "<AxesSubplot:xlabel='HeartDisease', ylabel='Age'>"
      ]
     },
     "execution_count": 32,
     "metadata": {},
     "output_type": "execute_result"
    },
    {
     "data": {
      "image/png": "[encoded data removed]",
      "text/plain": [
       "<Figure size 432x288 with 1 Axes>"
      ]
     },
     "metadata": {
      "needs_background": "light"
     },
     "output_type": "display_data"
    }
   ],
   "source": [
    "df.plot(kind=\"scatter\", x=\"HeartDisease\", y=\"Age\")"
   ]
  },
  {
   "cell_type": "code",
   "execution_count": 33,
   "id": "1e1a611a",
   "metadata": {},
   "outputs": [],
   "source": [
    "median = df['Cholesterol'].median()\n",
    "row = df[df['Cholesterol']==0].index\n",
    "df.loc[row, 'Cholesterol'] = median"
   ]
  },
  {
   "cell_type": "code",
   "execution_count": 34,
   "id": "d068863d",
   "metadata": {},
   "outputs": [
    {
     "data": {
      "text/plain": [
       "<AxesSubplot:xlabel='Age', ylabel='Cholesterol'>"
      ]
     },
     "execution_count": 34,
     "metadata": {},
     "output_type": "execute_result"
    },
    {
     "data": {
      "image/png": "[encoded data removed]",
      "text/plain": [
       "<Figure size 432x288 with 1 Axes>"
      ]
     },
     "metadata": {
      "needs_background": "light"
     },
     "output_type": "display_data"
    }
   ],
   "source": [
    "df.plot(kind=\"scatter\", x=\"Age\", y=\"Cholesterol\")"
   ]
  },
  {
   "cell_type": "code",
   "execution_count": 35,
   "id": "daf4007c",
   "metadata": {},
   "outputs": [
    {
     "data": {
      "text/plain": [
       "<AxesSubplot:xlabel='Cholesterol'>"
      ]
     },
     "execution_count": 35,
     "metadata": {},
     "output_type": "execute_result"
    },
    {
     "data": {
      "image/png": "[encoded data removed]",
      "text/plain": [
       "<Figure size 432x288 with 1 Axes>"
      ]
     },
     "metadata": {
      "needs_background": "light"
     },
     "output_type": "display_data"
    }
   ],
   "source": [
    "sns.boxplot(x=df['Cholesterol'], data=df, hue='HeartDisease',y=[\"\"]*len(df),palette=['#8abbd0','#F97A1F'],boxprops=dict(alpha=.3))"
   ]
  },
  {
   "cell_type": "code",
   "execution_count": 36,
   "id": "1a03431f",
   "metadata": {},
   "outputs": [],
   "source": [
    "corr_matrix = df.corr()"
   ]
  },
  {
   "cell_type": "code",
   "execution_count": 37,
   "id": "c63b5b63",
   "metadata": {},
   "outputs": [
    {
     "data": {
      "text/plain": [
       "HeartDisease         1.000000\n",
       "ST_Slope_Flat        0.565208\n",
       "ExerciseAngina_Y     0.514177\n",
       "Oldpeak              0.437553\n",
       "Sex_M                0.306264\n",
       "Age                  0.306186\n",
       "FastingBS            0.272580\n",
       "RestingBP            0.123523\n",
       "RestingECG_ST        0.102676\n",
       "Cholesterol          0.027804\n",
       "RestingECG_Normal   -0.106001\n",
       "ChestPainType_NAP   -0.225435\n",
       "MaxHR               -0.416914\n",
       "ChestPainType_ATA   -0.420840\n",
       "ST_Slope_Up         -0.632243\n",
       "ChestPainType_TA          NaN\n",
       "Name: HeartDisease, dtype: float64"
      ]
     },
     "execution_count": 37,
     "metadata": {},
     "output_type": "execute_result"
    }
   ],
   "source": [
    "corr_matrix[\"HeartDisease\"].sort_values(ascending=False)"
   ]
  },
  {
   "cell_type": "code",
   "execution_count": 38,
   "id": "f1c08f5b-9dd4-404f-b0e9-c5b4b5746f42",
   "metadata": {},
   "outputs": [
    {
     "data": {
      "text/plain": [
       "Cholesterol          1.000000\n",
       "RestingBP            0.113083\n",
       "ExerciseAngina_Y     0.067895\n",
       "Oldpeak              0.059745\n",
       "ST_Slope_Flat        0.054674\n",
       "MaxHR                0.034849\n",
       "Age                  0.032956\n",
       "HeartDisease         0.027804\n",
       "ChestPainType_ATA    0.020258\n",
       "FastingBS           -0.027845\n",
       "RestingECG_ST       -0.034689\n",
       "ST_Slope_Up         -0.041403\n",
       "RestingECG_Normal   -0.057270\n",
       "ChestPainType_NAP   -0.071160\n",
       "Sex_M               -0.140771\n",
       "ChestPainType_TA          NaN\n",
       "Name: Cholesterol, dtype: float64"
      ]
     },
     "execution_count": 38,
     "metadata": {},
     "output_type": "execute_result"
    }
   ],
   "source": [
    "corr_matrix[\"Cholesterol\"].sort_values(ascending=False)"
   ]
  },
  {
   "cell_type": "code",
   "execution_count": 39,
   "id": "832b77ba",
   "metadata": {},
   "outputs": [
    {
     "data": {
      "text/plain": [
       "Oldpeak              1.000000\n",
       "HeartDisease         0.437553\n",
       "ExerciseAngina_Y     0.433150\n",
       "ST_Slope_Flat        0.336260\n",
       "Age                  0.270628\n",
       "RestingBP            0.169247\n",
       "Sex_M                0.126405\n",
       "RestingECG_ST        0.072062\n",
       "FastingBS            0.070914\n",
       "Cholesterol          0.059745\n",
       "ChestPainType_NAP   -0.102465\n",
       "RestingECG_Normal   -0.128729\n",
       "MaxHR               -0.189049\n",
       "ChestPainType_ATA   -0.270899\n",
       "ST_Slope_Up         -0.471706\n",
       "ChestPainType_TA          NaN\n",
       "Name: Oldpeak, dtype: float64"
      ]
     },
     "execution_count": 39,
     "metadata": {},
     "output_type": "execute_result"
    }
   ],
   "source": [
    "corr_matrix[\"Oldpeak\"].sort_values(ascending=False)"
   ]
  },
  {
   "cell_type": "code",
   "execution_count": 40,
   "id": "7c0e1dcb",
   "metadata": {},
   "outputs": [
    {
     "data": {
      "text/plain": [
       "Age                  1.000000\n",
       "HeartDisease         0.306186\n",
       "Oldpeak              0.270628\n",
       "RestingBP            0.263075\n",
       "ExerciseAngina_Y     0.234025\n",
       "ST_Slope_Flat        0.196159\n",
       "FastingBS            0.192889\n",
       "RestingECG_ST        0.158026\n",
       "Sex_M                0.069174\n",
       "Cholesterol          0.032956\n",
       "ChestPainType_NAP   -0.014052\n",
       "ChestPainType_ATA   -0.222946\n",
       "RestingECG_Normal   -0.236760\n",
       "ST_Slope_Up         -0.260415\n",
       "MaxHR               -0.394911\n",
       "ChestPainType_TA          NaN\n",
       "Name: Age, dtype: float64"
      ]
     },
     "execution_count": 40,
     "metadata": {},
     "output_type": "execute_result"
    }
   ],
   "source": [
    "corr_matrix[\"Age\"].sort_values(ascending=False)"
   ]
  },
  {
   "cell_type": "code",
   "execution_count": 41,
   "id": "937b3753",
   "metadata": {},
   "outputs": [
    {
     "data": {
      "text/plain": [
       "RestingBP            1.000000\n",
       "Age                  0.263075\n",
       "ExerciseAngina_Y     0.174277\n",
       "Oldpeak              0.169247\n",
       "ST_Slope_Flat        0.137406\n",
       "HeartDisease         0.123523\n",
       "RestingECG_ST        0.115568\n",
       "Cholesterol          0.113083\n",
       "FastingBS            0.060008\n",
       "Sex_M                0.028413\n",
       "ChestPainType_NAP   -0.016075\n",
       "ChestPainType_ATA   -0.056581\n",
       "ST_Slope_Up         -0.106430\n",
       "RestingECG_Normal   -0.108530\n",
       "MaxHR               -0.122728\n",
       "ChestPainType_TA          NaN\n",
       "Name: RestingBP, dtype: float64"
      ]
     },
     "execution_count": 41,
     "metadata": {},
     "output_type": "execute_result"
    }
   ],
   "source": [
    "corr_matrix[\"RestingBP\"].sort_values(ascending=False)"
   ]
  },
  {
   "cell_type": "code",
   "execution_count": 42,
   "id": "3cc647f4",
   "metadata": {},
   "outputs": [
    {
     "data": {
      "text/plain": [
       "FastingBS            1.000000\n",
       "HeartDisease         0.272580\n",
       "Age                  0.192889\n",
       "RestingECG_ST        0.133005\n",
       "Sex_M                0.123704\n",
       "ST_Slope_Flat        0.111383\n",
       "Oldpeak              0.070914\n",
       "ExerciseAngina_Y     0.068117\n",
       "RestingBP            0.060008\n",
       "Cholesterol         -0.027845\n",
       "ChestPainType_NAP   -0.038805\n",
       "RestingECG_Normal   -0.088914\n",
       "MaxHR               -0.132390\n",
       "ChestPainType_ATA   -0.140879\n",
       "ST_Slope_Up         -0.160604\n",
       "ChestPainType_TA          NaN\n",
       "Name: FastingBS, dtype: float64"
      ]
     },
     "execution_count": 42,
     "metadata": {},
     "output_type": "execute_result"
    }
   ],
   "source": [
    "corr_matrix[\"FastingBS\"].sort_values(ascending=False)"
   ]
  },
  {
   "cell_type": "code",
   "execution_count": 43,
   "id": "8e5a72eb",
   "metadata": {},
   "outputs": [
    {
     "data": {
      "text/plain": [
       "MaxHR                1.000000\n",
       "ST_Slope_Up          0.404151\n",
       "ChestPainType_ATA    0.274055\n",
       "ChestPainType_NAP    0.155583\n",
       "RestingECG_Normal    0.045123\n",
       "Cholesterol          0.034849\n",
       "RestingBP           -0.122728\n",
       "FastingBS           -0.132390\n",
       "RestingECG_ST       -0.163346\n",
       "Oldpeak             -0.189049\n",
       "Sex_M               -0.201196\n",
       "ST_Slope_Flat       -0.367227\n",
       "ExerciseAngina_Y    -0.386277\n",
       "Age                 -0.394911\n",
       "HeartDisease        -0.416914\n",
       "ChestPainType_TA          NaN\n",
       "Name: MaxHR, dtype: float64"
      ]
     },
     "execution_count": 43,
     "metadata": {},
     "output_type": "execute_result"
    }
   ],
   "source": [
    "corr_matrix[\"MaxHR\"].sort_values(ascending=False)"
   ]
  },
  {
   "cell_type": "markdown",
   "id": "8eed0d8c",
   "metadata": {},
   "source": [
    "# Bayes Naive"
   ]
  },
  {
   "cell_type": "code",
   "execution_count": 44,
   "id": "2dd1df66",
   "metadata": {},
   "outputs": [],
   "source": [
    "#accuracy\n",
    "from sklearn.model_selection import train_test_split"
   ]
  },
  {
   "cell_type": "code",
   "execution_count": 45,
   "id": "39b5279d",
   "metadata": {},
   "outputs": [],
   "source": [
    "X = df.drop('HeartDisease', axis=1)\n",
    "Y = df['HeartDisease']\n",
    "X_train, X_test, y_train, y_test = train_test_split(X, Y, test_size=0.25, random_state=1)"
   ]
  },
  {
   "cell_type": "code",
   "execution_count": 46,
   "id": "745e4096",
   "metadata": {},
   "outputs": [
    {
     "data": {
      "text/plain": [
       "GaussianNB()"
      ]
     },
     "execution_count": 46,
     "metadata": {},
     "output_type": "execute_result"
    }
   ],
   "source": [
    "from sklearn.naive_bayes import GaussianNB\n",
    "gnb = GaussianNB()\n",
    "\n",
    "gnb.fit(X_train, y_train)"
   ]
  },
  {
   "cell_type": "code",
   "execution_count": 47,
   "id": "029705ea",
   "metadata": {},
   "outputs": [
    {
     "data": {
      "text/plain": [
       "0.8551401869158879"
      ]
     },
     "execution_count": 47,
     "metadata": {},
     "output_type": "execute_result"
    }
   ],
   "source": [
    "from sklearn.metrics import accuracy_score\n",
    "y_pred = gnb.predict(X_test)\n",
    "accuracy_score(y_test, y_pred) #83%"
   ]
  },
  {
   "cell_type": "code",
   "execution_count": 48,
   "id": "1a8fae43",
   "metadata": {},
   "outputs": [],
   "source": [
    "y_pred_train = gnb.predict(X_train)"
   ]
  },
  {
   "cell_type": "code",
   "execution_count": 49,
   "id": "4ca78083",
   "metadata": {},
   "outputs": [
    {
     "data": {
      "text/plain": [
       "0.8703125"
      ]
     },
     "execution_count": 49,
     "metadata": {},
     "output_type": "execute_result"
    }
   ],
   "source": [
    "accuracy_score(y_train, y_pred_train) #83%"
   ]
  },
  {
   "cell_type": "code",
   "execution_count": 50,
   "id": "e584f442",
   "metadata": {},
   "outputs": [
    {
     "data": {
      "text/plain": [
       "array([[ 73,  18],\n",
       "       [ 13, 110]], dtype=int64)"
      ]
     },
     "execution_count": 50,
     "metadata": {},
     "output_type": "execute_result"
    }
   ],
   "source": [
    "from sklearn.metrics import confusion_matrix\n",
    "\n",
    "confusion_matrix(y_test, y_pred)"
   ]
  },
  {
   "cell_type": "code",
   "execution_count": 51,
   "id": "8fb3b265",
   "metadata": {},
   "outputs": [
    {
     "data": {
      "text/plain": [
       "0.859375"
      ]
     },
     "execution_count": 51,
     "metadata": {},
     "output_type": "execute_result"
    }
   ],
   "source": [
    "from sklearn.metrics import precision_score\n",
    "\n",
    "precision_score(y_test, y_pred) #86% predicted positive correctly "
   ]
  },
  {
   "cell_type": "code",
   "execution_count": 52,
   "id": "a326b478",
   "metadata": {},
   "outputs": [
    {
     "data": {
      "text/plain": [
       "0.8943089430894309"
      ]
     },
     "execution_count": 52,
     "metadata": {},
     "output_type": "execute_result"
    }
   ],
   "source": [
    "from sklearn.metrics import recall_score\n",
    "recall_score(y_test, y_pred) #84% predicted "
   ]
  },
  {
   "cell_type": "code",
   "execution_count": 53,
   "id": "b92b9472",
   "metadata": {},
   "outputs": [
    {
     "data": {
      "text/plain": [
       "0.8764940239043825"
      ]
     },
     "execution_count": 53,
     "metadata": {},
     "output_type": "execute_result"
    }
   ],
   "source": [
    "from sklearn.metrics import f1_score\n",
    "\n",
    "f1_score(y_test, y_pred) #85%"
   ]
  },
  {
   "cell_type": "code",
   "execution_count": 54,
   "id": "fb20f034",
   "metadata": {},
   "outputs": [],
   "source": [
    "from sklearn.metrics import roc_curve\n",
    "prob = gnb.predict_proba(X_test)[:, 1]\n",
    "\n",
    "fpr, tpr, thresholds = roc_curve(y_test, prob)"
   ]
  },
  {
   "cell_type": "code",
   "execution_count": 55,
   "id": "f558aea8",
   "metadata": {},
   "outputs": [
    {
     "data": {
      "text/plain": [
       "0.15625"
      ]
     },
     "execution_count": 55,
     "metadata": {},
     "output_type": "execute_result"
    }
   ],
   "source": [
    "20/(20+108)"
   ]
  },
  {
   "cell_type": "code",
   "execution_count": 56,
   "id": "fd36f2b2",
   "metadata": {},
   "outputs": [
    {
     "data": {
      "image/png": "[encoded data removed]",
      "text/plain": [
       "<Figure size 576x432 with 1 Axes>"
      ]
     },
     "metadata": {
      "needs_background": "light"
     },
     "output_type": "display_data"
    }
   ],
   "source": [
    "def plot_roc_curve(fpr, tpr, label=None):\n",
    "    plt.plot(fpr, tpr, linewidth=2, label=label)\n",
    "    plt.plot([0, 1], [0, 1], 'k--') # dashed diagonal\n",
    "    plt.axis([0, 1, 0, 1])                                    \n",
    "    plt.xlabel('False Positive Rate (Fall-Out)', fontsize=16) \n",
    "    plt.ylabel('True Positive Rate (Recall)', fontsize=16)    \n",
    "    plt.grid(True)                                          \n",
    "\n",
    "plt.figure(figsize=(8, 6))                        \n",
    "plot_roc_curve(fpr, tpr)\n",
    "plt.plot([4.837e-3, 4.837e-3], [0., 0.4368], \"r:\") \n",
    "plt.plot([0.0, 4.837e-3], [0.4368, 0.4368], \"r:\")  \n",
    "plt.plot([4.837e-3], [0.4368], \"ro\")              \n",
    "plt.show()"
   ]
  },
  {
   "cell_type": "code",
   "execution_count": null,
   "id": "e715f84f",
   "metadata": {},
   "outputs": [],
   "source": []
  },
  {
   "cell_type": "code",
   "execution_count": 57,
   "id": "73a15b6c",
   "metadata": {},
   "outputs": [
    {
     "data": {
      "text/plain": [
       "0.9133386938264986"
      ]
     },
     "execution_count": 57,
     "metadata": {},
     "output_type": "execute_result"
    }
   ],
   "source": [
    "from sklearn.metrics import roc_auc_score\n",
    "\n",
    "roc_auc_score(y_test, prob) #90% prob of getting actual Positive"
   ]
  },
  {
   "cell_type": "code",
   "execution_count": 58,
   "id": "c7843c4c",
   "metadata": {},
   "outputs": [],
   "source": [
    "df1 = df[['Age','Oldpeak','HeartDisease']]\n",
    "df2 = df[['Age','MaxHR','HeartDisease']]\n",
    "df3 = df[['Age','ST_Slope_Flat', 'ST_Slope_Up' ,'Oldpeak','HeartDisease']]"
   ]
  },
  {
   "cell_type": "code",
   "execution_count": 59,
   "id": "cfcb599c",
   "metadata": {},
   "outputs": [
    {
     "data": {
      "text/html": [
       "<div>\n",
       "<style scoped>\n",
       "    .dataframe tbody tr th:only-of-type {\n",
       "        vertical-align: middle;\n",
       "    }\n",
       "\n",
       "    .dataframe tbody tr th {\n",
       "        vertical-align: top;\n",
       "    }\n",
       "\n",
       "    .dataframe thead th {\n",
       "        text-align: right;\n",
       "    }\n",
       "</style>\n",
       "<table border=\"1\" class=\"dataframe\">\n",
       "  <thead>\n",
       "    <tr style=\"text-align: right;\">\n",
       "      <th></th>\n",
       "      <th>Age</th>\n",
       "      <th>Oldpeak</th>\n",
       "      <th>HeartDisease</th>\n",
       "    </tr>\n",
       "  </thead>\n",
       "  <tbody>\n",
       "    <tr>\n",
       "      <th>0</th>\n",
       "      <td>40</td>\n",
       "      <td>0.0</td>\n",
       "      <td>0</td>\n",
       "    </tr>\n",
       "    <tr>\n",
       "      <th>1</th>\n",
       "      <td>49</td>\n",
       "      <td>1.0</td>\n",
       "      <td>1</td>\n",
       "    </tr>\n",
       "    <tr>\n",
       "      <th>2</th>\n",
       "      <td>37</td>\n",
       "      <td>0.0</td>\n",
       "      <td>0</td>\n",
       "    </tr>\n",
       "    <tr>\n",
       "      <th>3</th>\n",
       "      <td>48</td>\n",
       "      <td>1.5</td>\n",
       "      <td>1</td>\n",
       "    </tr>\n",
       "    <tr>\n",
       "      <th>4</th>\n",
       "      <td>54</td>\n",
       "      <td>0.0</td>\n",
       "      <td>0</td>\n",
       "    </tr>\n",
       "    <tr>\n",
       "      <th>...</th>\n",
       "      <td>...</td>\n",
       "      <td>...</td>\n",
       "      <td>...</td>\n",
       "    </tr>\n",
       "    <tr>\n",
       "      <th>912</th>\n",
       "      <td>57</td>\n",
       "      <td>0.2</td>\n",
       "      <td>1</td>\n",
       "    </tr>\n",
       "    <tr>\n",
       "      <th>914</th>\n",
       "      <td>68</td>\n",
       "      <td>3.4</td>\n",
       "      <td>1</td>\n",
       "    </tr>\n",
       "    <tr>\n",
       "      <th>915</th>\n",
       "      <td>57</td>\n",
       "      <td>1.2</td>\n",
       "      <td>1</td>\n",
       "    </tr>\n",
       "    <tr>\n",
       "      <th>916</th>\n",
       "      <td>57</td>\n",
       "      <td>0.0</td>\n",
       "      <td>1</td>\n",
       "    </tr>\n",
       "    <tr>\n",
       "      <th>917</th>\n",
       "      <td>38</td>\n",
       "      <td>0.0</td>\n",
       "      <td>0</td>\n",
       "    </tr>\n",
       "  </tbody>\n",
       "</table>\n",
       "<p>854 rows × 3 columns</p>\n",
       "</div>"
      ],
      "text/plain": [
       "     Age  Oldpeak  HeartDisease\n",
       "0     40      0.0             0\n",
       "1     49      1.0             1\n",
       "2     37      0.0             0\n",
       "3     48      1.5             1\n",
       "4     54      0.0             0\n",
       "..   ...      ...           ...\n",
       "912   57      0.2             1\n",
       "914   68      3.4             1\n",
       "915   57      1.2             1\n",
       "916   57      0.0             1\n",
       "917   38      0.0             0\n",
       "\n",
       "[854 rows x 3 columns]"
      ]
     },
     "execution_count": 59,
     "metadata": {},
     "output_type": "execute_result"
    }
   ],
   "source": [
    "df1"
   ]
  },
  {
   "cell_type": "code",
   "execution_count": 60,
   "id": "bc1ee921",
   "metadata": {},
   "outputs": [
    {
     "data": {
      "text/html": [
       "<div>\n",
       "<style scoped>\n",
       "    .dataframe tbody tr th:only-of-type {\n",
       "        vertical-align: middle;\n",
       "    }\n",
       "\n",
       "    .dataframe tbody tr th {\n",
       "        vertical-align: top;\n",
       "    }\n",
       "\n",
       "    .dataframe thead th {\n",
       "        text-align: right;\n",
       "    }\n",
       "</style>\n",
       "<table border=\"1\" class=\"dataframe\">\n",
       "  <thead>\n",
       "    <tr style=\"text-align: right;\">\n",
       "      <th></th>\n",
       "      <th>Age</th>\n",
       "      <th>MaxHR</th>\n",
       "      <th>HeartDisease</th>\n",
       "    </tr>\n",
       "  </thead>\n",
       "  <tbody>\n",
       "    <tr>\n",
       "      <th>0</th>\n",
       "      <td>40</td>\n",
       "      <td>172</td>\n",
       "      <td>0</td>\n",
       "    </tr>\n",
       "    <tr>\n",
       "      <th>1</th>\n",
       "      <td>49</td>\n",
       "      <td>156</td>\n",
       "      <td>1</td>\n",
       "    </tr>\n",
       "    <tr>\n",
       "      <th>2</th>\n",
       "      <td>37</td>\n",
       "      <td>98</td>\n",
       "      <td>0</td>\n",
       "    </tr>\n",
       "    <tr>\n",
       "      <th>3</th>\n",
       "      <td>48</td>\n",
       "      <td>108</td>\n",
       "      <td>1</td>\n",
       "    </tr>\n",
       "    <tr>\n",
       "      <th>4</th>\n",
       "      <td>54</td>\n",
       "      <td>122</td>\n",
       "      <td>0</td>\n",
       "    </tr>\n",
       "    <tr>\n",
       "      <th>...</th>\n",
       "      <td>...</td>\n",
       "      <td>...</td>\n",
       "      <td>...</td>\n",
       "    </tr>\n",
       "    <tr>\n",
       "      <th>912</th>\n",
       "      <td>57</td>\n",
       "      <td>123</td>\n",
       "      <td>1</td>\n",
       "    </tr>\n",
       "    <tr>\n",
       "      <th>914</th>\n",
       "      <td>68</td>\n",
       "      <td>141</td>\n",
       "      <td>1</td>\n",
       "    </tr>\n",
       "    <tr>\n",
       "      <th>915</th>\n",
       "      <td>57</td>\n",
       "      <td>115</td>\n",
       "      <td>1</td>\n",
       "    </tr>\n",
       "    <tr>\n",
       "      <th>916</th>\n",
       "      <td>57</td>\n",
       "      <td>174</td>\n",
       "      <td>1</td>\n",
       "    </tr>\n",
       "    <tr>\n",
       "      <th>917</th>\n",
       "      <td>38</td>\n",
       "      <td>173</td>\n",
       "      <td>0</td>\n",
       "    </tr>\n",
       "  </tbody>\n",
       "</table>\n",
       "<p>854 rows × 3 columns</p>\n",
       "</div>"
      ],
      "text/plain": [
       "     Age  MaxHR  HeartDisease\n",
       "0     40    172             0\n",
       "1     49    156             1\n",
       "2     37     98             0\n",
       "3     48    108             1\n",
       "4     54    122             0\n",
       "..   ...    ...           ...\n",
       "912   57    123             1\n",
       "914   68    141             1\n",
       "915   57    115             1\n",
       "916   57    174             1\n",
       "917   38    173             0\n",
       "\n",
       "[854 rows x 3 columns]"
      ]
     },
     "execution_count": 60,
     "metadata": {},
     "output_type": "execute_result"
    }
   ],
   "source": [
    "df2"
   ]
  },
  {
   "cell_type": "code",
   "execution_count": 61,
   "id": "87bbad91",
   "metadata": {},
   "outputs": [
    {
     "data": {
      "text/html": [
       "<div>\n",
       "<style scoped>\n",
       "    .dataframe tbody tr th:only-of-type {\n",
       "        vertical-align: middle;\n",
       "    }\n",
       "\n",
       "    .dataframe tbody tr th {\n",
       "        vertical-align: top;\n",
       "    }\n",
       "\n",
       "    .dataframe thead th {\n",
       "        text-align: right;\n",
       "    }\n",
       "</style>\n",
       "<table border=\"1\" class=\"dataframe\">\n",
       "  <thead>\n",
       "    <tr style=\"text-align: right;\">\n",
       "      <th></th>\n",
       "      <th>Age</th>\n",
       "      <th>ST_Slope_Flat</th>\n",
       "      <th>ST_Slope_Up</th>\n",
       "      <th>Oldpeak</th>\n",
       "      <th>HeartDisease</th>\n",
       "    </tr>\n",
       "  </thead>\n",
       "  <tbody>\n",
       "    <tr>\n",
       "      <th>0</th>\n",
       "      <td>40</td>\n",
       "      <td>0</td>\n",
       "      <td>1</td>\n",
       "      <td>0.0</td>\n",
       "      <td>0</td>\n",
       "    </tr>\n",
       "    <tr>\n",
       "      <th>1</th>\n",
       "      <td>49</td>\n",
       "      <td>1</td>\n",
       "      <td>0</td>\n",
       "      <td>1.0</td>\n",
       "      <td>1</td>\n",
       "    </tr>\n",
       "    <tr>\n",
       "      <th>2</th>\n",
       "      <td>37</td>\n",
       "      <td>0</td>\n",
       "      <td>1</td>\n",
       "      <td>0.0</td>\n",
       "      <td>0</td>\n",
       "    </tr>\n",
       "    <tr>\n",
       "      <th>3</th>\n",
       "      <td>48</td>\n",
       "      <td>1</td>\n",
       "      <td>0</td>\n",
       "      <td>1.5</td>\n",
       "      <td>1</td>\n",
       "    </tr>\n",
       "    <tr>\n",
       "      <th>4</th>\n",
       "      <td>54</td>\n",
       "      <td>0</td>\n",
       "      <td>1</td>\n",
       "      <td>0.0</td>\n",
       "      <td>0</td>\n",
       "    </tr>\n",
       "    <tr>\n",
       "      <th>...</th>\n",
       "      <td>...</td>\n",
       "      <td>...</td>\n",
       "      <td>...</td>\n",
       "      <td>...</td>\n",
       "      <td>...</td>\n",
       "    </tr>\n",
       "    <tr>\n",
       "      <th>912</th>\n",
       "      <td>57</td>\n",
       "      <td>1</td>\n",
       "      <td>0</td>\n",
       "      <td>0.2</td>\n",
       "      <td>1</td>\n",
       "    </tr>\n",
       "    <tr>\n",
       "      <th>914</th>\n",
       "      <td>68</td>\n",
       "      <td>1</td>\n",
       "      <td>0</td>\n",
       "      <td>3.4</td>\n",
       "      <td>1</td>\n",
       "    </tr>\n",
       "    <tr>\n",
       "      <th>915</th>\n",
       "      <td>57</td>\n",
       "      <td>1</td>\n",
       "      <td>0</td>\n",
       "      <td>1.2</td>\n",
       "      <td>1</td>\n",
       "    </tr>\n",
       "    <tr>\n",
       "      <th>916</th>\n",
       "      <td>57</td>\n",
       "      <td>1</td>\n",
       "      <td>0</td>\n",
       "      <td>0.0</td>\n",
       "      <td>1</td>\n",
       "    </tr>\n",
       "    <tr>\n",
       "      <th>917</th>\n",
       "      <td>38</td>\n",
       "      <td>0</td>\n",
       "      <td>1</td>\n",
       "      <td>0.0</td>\n",
       "      <td>0</td>\n",
       "    </tr>\n",
       "  </tbody>\n",
       "</table>\n",
       "<p>854 rows × 5 columns</p>\n",
       "</div>"
      ],
      "text/plain": [
       "     Age  ST_Slope_Flat  ST_Slope_Up  Oldpeak  HeartDisease\n",
       "0     40              0            1      0.0             0\n",
       "1     49              1            0      1.0             1\n",
       "2     37              0            1      0.0             0\n",
       "3     48              1            0      1.5             1\n",
       "4     54              0            1      0.0             0\n",
       "..   ...            ...          ...      ...           ...\n",
       "912   57              1            0      0.2             1\n",
       "914   68              1            0      3.4             1\n",
       "915   57              1            0      1.2             1\n",
       "916   57              1            0      0.0             1\n",
       "917   38              0            1      0.0             0\n",
       "\n",
       "[854 rows x 5 columns]"
      ]
     },
     "execution_count": 61,
     "metadata": {},
     "output_type": "execute_result"
    }
   ],
   "source": [
    "df3"
   ]
  },
  {
   "cell_type": "code",
   "execution_count": 62,
   "id": "5f58844a",
   "metadata": {},
   "outputs": [],
   "source": [
    "X1 = df1.drop('HeartDisease', axis=1)\n",
    "Y1 = df1['HeartDisease']\n",
    "X1_train, X1_test, y1_train, y1_test = train_test_split(X1, Y1, test_size=0.25, random_state=1)"
   ]
  },
  {
   "cell_type": "code",
   "execution_count": 63,
   "id": "23a2529b",
   "metadata": {},
   "outputs": [],
   "source": [
    "X2 = df2.drop('HeartDisease', axis=1)\n",
    "Y2 = df2['HeartDisease']\n",
    "X2_train, X2_test, y2_train, y2_test = train_test_split(X2, Y2, test_size=0.25, random_state=1)"
   ]
  },
  {
   "cell_type": "code",
   "execution_count": 64,
   "id": "40d06cf1",
   "metadata": {},
   "outputs": [],
   "source": [
    "X3 = df3.drop('HeartDisease', axis=1)\n",
    "Y3 = df3['HeartDisease']\n",
    "X3_train, X3_test, y3_train, y3_test = train_test_split(X3, Y3, test_size=0.25, random_state=1)"
   ]
  },
  {
   "cell_type": "code",
   "execution_count": 65,
   "id": "2af5d104",
   "metadata": {},
   "outputs": [
    {
     "data": {
      "text/plain": [
       "GaussianNB()"
      ]
     },
     "execution_count": 65,
     "metadata": {},
     "output_type": "execute_result"
    }
   ],
   "source": [
    "gnb1 = GaussianNB()\n",
    "gnb2 = GaussianNB()\n",
    "gnb3 = GaussianNB()\n",
    "\n",
    "gnb1.fit(X1_train, y1_train)\n",
    "gnb2.fit(X2_train, y2_train)\n",
    "gnb3.fit(X3_train, y3_train)"
   ]
  },
  {
   "cell_type": "code",
   "execution_count": 66,
   "id": "bb23b35c",
   "metadata": {},
   "outputs": [
    {
     "data": {
      "text/plain": [
       "0.719626168224299"
      ]
     },
     "execution_count": 66,
     "metadata": {},
     "output_type": "execute_result"
    }
   ],
   "source": [
    "y1_pred = gnb1.predict(X1_test)\n",
    "accuracy_score(y1_test, y1_pred) #70% for class 1"
   ]
  },
  {
   "cell_type": "code",
   "execution_count": 67,
   "id": "fc278fa3",
   "metadata": {},
   "outputs": [
    {
     "data": {
      "text/plain": [
       "0.7710280373831776"
      ]
     },
     "execution_count": 67,
     "metadata": {},
     "output_type": "execute_result"
    }
   ],
   "source": [
    "y2_pred = gnb2.predict(X2_test)\n",
    "accuracy_score(y2_test, y2_pred) #66% for class 2"
   ]
  },
  {
   "cell_type": "code",
   "execution_count": 68,
   "id": "d8908f2e",
   "metadata": {},
   "outputs": [
    {
     "data": {
      "text/plain": [
       "0.822429906542056"
      ]
     },
     "execution_count": 68,
     "metadata": {},
     "output_type": "execute_result"
    }
   ],
   "source": [
    "y3_pred = gnb3.predict(X3_test)\n",
    "accuracy_score(y3_test, y3_pred) #81% for class 3"
   ]
  },
  {
   "cell_type": "code",
   "execution_count": 69,
   "id": "f4f316b7",
   "metadata": {},
   "outputs": [
    {
     "data": {
      "text/plain": [
       "array([[68, 23],\n",
       "       [37, 86]], dtype=int64)"
      ]
     },
     "execution_count": 69,
     "metadata": {},
     "output_type": "execute_result"
    }
   ],
   "source": [
    "confusion_matrix(y1_test, y1_pred)"
   ]
  },
  {
   "cell_type": "code",
   "execution_count": 70,
   "id": "24f6980c",
   "metadata": {},
   "outputs": [
    {
     "data": {
      "text/plain": [
       "array([[ 60,  31],\n",
       "       [ 18, 105]], dtype=int64)"
      ]
     },
     "execution_count": 70,
     "metadata": {},
     "output_type": "execute_result"
    }
   ],
   "source": [
    "confusion_matrix(y2_test, y2_pred)"
   ]
  },
  {
   "cell_type": "code",
   "execution_count": 71,
   "id": "d1b7e186",
   "metadata": {},
   "outputs": [
    {
     "data": {
      "text/plain": [
       "array([[ 69,  22],\n",
       "       [ 16, 107]], dtype=int64)"
      ]
     },
     "execution_count": 71,
     "metadata": {},
     "output_type": "execute_result"
    }
   ],
   "source": [
    "confusion_matrix(y3_test, y3_pred)"
   ]
  },
  {
   "cell_type": "code",
   "execution_count": 72,
   "id": "aae8c404",
   "metadata": {},
   "outputs": [
    {
     "data": {
      "text/plain": [
       "0.7889908256880734"
      ]
     },
     "execution_count": 72,
     "metadata": {},
     "output_type": "execute_result"
    }
   ],
   "source": [
    "precision_score(y1_test, y1_pred) #76% for class 1"
   ]
  },
  {
   "cell_type": "code",
   "execution_count": 73,
   "id": "1bf5876e",
   "metadata": {},
   "outputs": [
    {
     "data": {
      "text/plain": [
       "0.7720588235294118"
      ]
     },
     "execution_count": 73,
     "metadata": {},
     "output_type": "execute_result"
    }
   ],
   "source": [
    "precision_score(y2_test, y2_pred) #69% for class 2"
   ]
  },
  {
   "cell_type": "code",
   "execution_count": 74,
   "id": "1f0cbe97",
   "metadata": {},
   "outputs": [
    {
     "data": {
      "text/plain": [
       "0.8294573643410853"
      ]
     },
     "execution_count": 74,
     "metadata": {},
     "output_type": "execute_result"
    }
   ],
   "source": [
    "precision_score(y3_test, y3_pred) #82% for class 3"
   ]
  },
  {
   "cell_type": "code",
   "execution_count": 75,
   "id": "a0a9efee",
   "metadata": {},
   "outputs": [
    {
     "data": {
      "text/plain": [
       "0.6991869918699187"
      ]
     },
     "execution_count": 75,
     "metadata": {},
     "output_type": "execute_result"
    }
   ],
   "source": [
    "recall_score(y1_test, y1_pred) #67% for class 1"
   ]
  },
  {
   "cell_type": "code",
   "execution_count": 76,
   "id": "ed537af9",
   "metadata": {},
   "outputs": [
    {
     "data": {
      "text/plain": [
       "0.8536585365853658"
      ]
     },
     "execution_count": 76,
     "metadata": {},
     "output_type": "execute_result"
    }
   ],
   "source": [
    "recall_score(y2_test, y2_pred) #73% for class 2"
   ]
  },
  {
   "cell_type": "code",
   "execution_count": 77,
   "id": "ff78c8b7",
   "metadata": {},
   "outputs": [
    {
     "data": {
      "text/plain": [
       "0.8699186991869918"
      ]
     },
     "execution_count": 77,
     "metadata": {},
     "output_type": "execute_result"
    }
   ],
   "source": [
    "recall_score(y3_test, y3_pred) #85% for class 3"
   ]
  },
  {
   "cell_type": "code",
   "execution_count": 78,
   "id": "0eeeb474",
   "metadata": {},
   "outputs": [
    {
     "data": {
      "text/plain": [
       "0.7413793103448276"
      ]
     },
     "execution_count": 78,
     "metadata": {},
     "output_type": "execute_result"
    }
   ],
   "source": [
    "f1_score(y1_test, y1_pred) #72% for class 1"
   ]
  },
  {
   "cell_type": "code",
   "execution_count": 79,
   "id": "243976cc",
   "metadata": {},
   "outputs": [
    {
     "data": {
      "text/plain": [
       "0.8108108108108107"
      ]
     },
     "execution_count": 79,
     "metadata": {},
     "output_type": "execute_result"
    }
   ],
   "source": [
    "f1_score(y2_test, y2_pred) #71% for class 2"
   ]
  },
  {
   "cell_type": "code",
   "execution_count": 80,
   "id": "59aa087b",
   "metadata": {},
   "outputs": [
    {
     "data": {
      "text/plain": [
       "0.8492063492063492"
      ]
     },
     "execution_count": 80,
     "metadata": {},
     "output_type": "execute_result"
    }
   ],
   "source": [
    "f1_score(y3_test, y3_pred) #83% for class 3"
   ]
  },
  {
   "cell_type": "code",
   "execution_count": 81,
   "id": "b5b7c5eb",
   "metadata": {},
   "outputs": [],
   "source": [
    "prob1 = gnb1.predict_proba(X1_test)[:, 1]\n",
    "prob2 = gnb2.predict_proba(X2_test)[:, 1]\n",
    "prob3 = gnb3.predict_proba(X3_test)[:, 1]\n",
    "fpr1, tpr1, thresholds1 = roc_curve(y1_test, prob1)\n",
    "fpr2, tpr2, thresholds2 = roc_curve(y2_test, prob2)\n",
    "fpr3, tpr3, thresholds3 = roc_curve(y3_test, prob3)"
   ]
  },
  {
   "cell_type": "code",
   "execution_count": 82,
   "id": "0ed91d30",
   "metadata": {},
   "outputs": [
    {
     "data": {
      "image/png": "[encoded data removed]",
      "text/plain": [
       "<Figure size 576x432 with 1 Axes>"
      ]
     },
     "metadata": {
      "needs_background": "light"
     },
     "output_type": "display_data"
    }
   ],
   "source": [
    "def plot_roc_curve(fpr1, tpr1, label=None):\n",
    "    plt.plot(fpr1, tpr1, linewidth=2, label=label)\n",
    "    plt.plot([0, 1], [0, 1], 'k--') # dashed diagonal\n",
    "    plt.axis([0, 1, 0, 1])                                    \n",
    "    plt.xlabel('False Positive Rate (Fall-Out)', fontsize=16) \n",
    "    plt.ylabel('True Positive Rate (Recall)', fontsize=16)    \n",
    "    plt.grid(True)                                          \n",
    "\n",
    "plt.figure(figsize=(8, 6))                        \n",
    "plot_roc_curve(fpr1, tpr1)\n",
    "plt.plot([4.837e-3, 4.837e-3], [0., 0.4368], \"r:\") \n",
    "plt.plot([0.0, 4.837e-3], [0.4368, 0.4368], \"r:\")  \n",
    "plt.plot([4.837e-3], [0.4368], \"ro\")              \n",
    "plt.show()"
   ]
  },
  {
   "cell_type": "code",
   "execution_count": 83,
   "id": "6a69185e",
   "metadata": {},
   "outputs": [
    {
     "data": {
      "image/png": "[encoded data removed]",
      "text/plain": [
       "<Figure size 576x432 with 1 Axes>"
      ]
     },
     "metadata": {
      "needs_background": "light"
     },
     "output_type": "display_data"
    }
   ],
   "source": [
    "def plot_roc_curve(fpr2, tpr2, label=None):\n",
    "    plt.plot(fpr2, tpr2, linewidth=2, label=label)\n",
    "    plt.plot([0, 1], [0, 1], 'k--') # dashed diagonal\n",
    "    plt.axis([0, 1, 0, 1])                                    \n",
    "    plt.xlabel('False Positive Rate (Fall-Out)', fontsize=16) \n",
    "    plt.ylabel('True Positive Rate (Recall)', fontsize=16)    \n",
    "    plt.grid(True)                                          \n",
    "\n",
    "plt.figure(figsize=(8, 6))                        \n",
    "plot_roc_curve(fpr2, tpr2)\n",
    "plt.plot([4.837e-3, 4.837e-3], [0., 0.4368], \"r:\") \n",
    "plt.plot([0.0, 4.837e-3], [0.4368, 0.4368], \"r:\")  \n",
    "plt.plot([4.837e-3], [0.4368], \"ro\")              \n",
    "plt.show()"
   ]
  },
  {
   "cell_type": "code",
   "execution_count": 84,
   "id": "cb2fd081",
   "metadata": {},
   "outputs": [
    {
     "data": {
      "image/png": "[encoded data removed]",
      "text/plain": [
       "<Figure size 576x432 with 1 Axes>"
      ]
     },
     "metadata": {
      "needs_background": "light"
     },
     "output_type": "display_data"
    }
   ],
   "source": [
    "def plot_roc_curve(fpr3, tpr3, label=None):\n",
    "    plt.plot(fpr3, tpr3, linewidth=2, label=label)\n",
    "    plt.plot([0, 1], [0, 1], 'k--') # dashed diagonal\n",
    "    plt.axis([0, 1, 0, 1])                                    \n",
    "    plt.xlabel('False Positive Rate (Fall-Out)', fontsize=16) \n",
    "    plt.ylabel('True Positive Rate (Recall)', fontsize=16)    \n",
    "    plt.grid(True)                                          \n",
    "\n",
    "plt.figure(figsize=(8, 6))                        \n",
    "plot_roc_curve(fpr3, tpr3)\n",
    "plt.plot([4.837e-3, 4.837e-3], [0., 0.4368], \"r:\") \n",
    "plt.plot([0.0, 4.837e-3], [0.4368, 0.4368], \"r:\")  \n",
    "plt.plot([4.837e-3], [0.4368], \"ro\")              \n",
    "plt.show()"
   ]
  },
  {
   "cell_type": "code",
   "execution_count": 85,
   "id": "003ea3db",
   "metadata": {},
   "outputs": [
    {
     "data": {
      "text/plain": [
       "0.8009470204592156"
      ]
     },
     "execution_count": 85,
     "metadata": {},
     "output_type": "execute_result"
    }
   ],
   "source": [
    "roc_auc_score(y1_test, prob1) # 77% for class 1"
   ]
  },
  {
   "cell_type": "code",
   "execution_count": 86,
   "id": "343f8dcb",
   "metadata": {},
   "outputs": [
    {
     "data": {
      "text/plain": [
       "0.8189046725632091"
      ]
     },
     "execution_count": 86,
     "metadata": {},
     "output_type": "execute_result"
    }
   ],
   "source": [
    "roc_auc_score(y2_test, prob2) # 70% for class 2"
   ]
  },
  {
   "cell_type": "code",
   "execution_count": 87,
   "id": "4a9141c3",
   "metadata": {},
   "outputs": [
    {
     "data": {
      "text/plain": [
       "0.8575448941302599"
      ]
     },
     "execution_count": 87,
     "metadata": {},
     "output_type": "execute_result"
    }
   ],
   "source": [
    "roc_auc_score(y3_test, prob3) # 85 % for class 3"
   ]
  },
  {
   "cell_type": "markdown",
   "id": "1f05d630",
   "metadata": {},
   "source": [
    "# K-Means Clustering "
   ]
  },
  {
   "cell_type": "code",
   "execution_count": 88,
   "id": "1ab6eb3a",
   "metadata": {},
   "outputs": [
    {
     "data": {
      "text/plain": [
       "array([[-1.43962926,  1.40846506],\n",
       "       [-0.47502369,  0.77658186],\n",
       "       [-1.76116445, -1.51399474],\n",
       "       ...,\n",
       "       [ 0.38240348, -0.84261884],\n",
       "       [ 0.38240348,  1.48745046],\n",
       "       [-1.65398605,  1.44795776]])"
      ]
     },
     "execution_count": 88,
     "metadata": {},
     "output_type": "execute_result"
    }
   ],
   "source": [
    "from sklearn.preprocessing import StandardScaler\n",
    "df4 = df[['Age','MaxHR']]\n",
    "dfk = StandardScaler().fit_transform(df4)\n",
    "dfk"
   ]
  },
  {
   "cell_type": "code",
   "execution_count": 89,
   "id": "acead7ed",
   "metadata": {},
   "outputs": [
    {
     "data": {
      "text/html": [
       "<div>\n",
       "<style scoped>\n",
       "    .dataframe tbody tr th:only-of-type {\n",
       "        vertical-align: middle;\n",
       "    }\n",
       "\n",
       "    .dataframe tbody tr th {\n",
       "        vertical-align: top;\n",
       "    }\n",
       "\n",
       "    .dataframe thead th {\n",
       "        text-align: right;\n",
       "    }\n",
       "</style>\n",
       "<table border=\"1\" class=\"dataframe\">\n",
       "  <thead>\n",
       "    <tr style=\"text-align: right;\">\n",
       "      <th></th>\n",
       "      <th>Age</th>\n",
       "      <th>RestingBP</th>\n",
       "      <th>Cholesterol</th>\n",
       "      <th>FastingBS</th>\n",
       "      <th>MaxHR</th>\n",
       "      <th>Oldpeak</th>\n",
       "      <th>HeartDisease</th>\n",
       "      <th>Sex_M</th>\n",
       "      <th>ChestPainType_ATA</th>\n",
       "      <th>ChestPainType_NAP</th>\n",
       "      <th>ChestPainType_TA</th>\n",
       "      <th>RestingECG_Normal</th>\n",
       "      <th>RestingECG_ST</th>\n",
       "      <th>ExerciseAngina_Y</th>\n",
       "      <th>ST_Slope_Flat</th>\n",
       "      <th>ST_Slope_Up</th>\n",
       "    </tr>\n",
       "  </thead>\n",
       "  <tbody>\n",
       "    <tr>\n",
       "      <th>0</th>\n",
       "      <td>40</td>\n",
       "      <td>140</td>\n",
       "      <td>289</td>\n",
       "      <td>0</td>\n",
       "      <td>172</td>\n",
       "      <td>0.0</td>\n",
       "      <td>0</td>\n",
       "      <td>1</td>\n",
       "      <td>1</td>\n",
       "      <td>0</td>\n",
       "      <td>0</td>\n",
       "      <td>1</td>\n",
       "      <td>0</td>\n",
       "      <td>0</td>\n",
       "      <td>0</td>\n",
       "      <td>1</td>\n",
       "    </tr>\n",
       "    <tr>\n",
       "      <th>1</th>\n",
       "      <td>49</td>\n",
       "      <td>160</td>\n",
       "      <td>180</td>\n",
       "      <td>0</td>\n",
       "      <td>156</td>\n",
       "      <td>1.0</td>\n",
       "      <td>1</td>\n",
       "      <td>0</td>\n",
       "      <td>0</td>\n",
       "      <td>1</td>\n",
       "      <td>0</td>\n",
       "      <td>1</td>\n",
       "      <td>0</td>\n",
       "      <td>0</td>\n",
       "      <td>1</td>\n",
       "      <td>0</td>\n",
       "    </tr>\n",
       "    <tr>\n",
       "      <th>2</th>\n",
       "      <td>37</td>\n",
       "      <td>130</td>\n",
       "      <td>283</td>\n",
       "      <td>0</td>\n",
       "      <td>98</td>\n",
       "      <td>0.0</td>\n",
       "      <td>0</td>\n",
       "      <td>1</td>\n",
       "      <td>1</td>\n",
       "      <td>0</td>\n",
       "      <td>0</td>\n",
       "      <td>0</td>\n",
       "      <td>1</td>\n",
       "      <td>0</td>\n",
       "      <td>0</td>\n",
       "      <td>1</td>\n",
       "    </tr>\n",
       "    <tr>\n",
       "      <th>3</th>\n",
       "      <td>48</td>\n",
       "      <td>138</td>\n",
       "      <td>214</td>\n",
       "      <td>0</td>\n",
       "      <td>108</td>\n",
       "      <td>1.5</td>\n",
       "      <td>1</td>\n",
       "      <td>0</td>\n",
       "      <td>0</td>\n",
       "      <td>0</td>\n",
       "      <td>0</td>\n",
       "      <td>1</td>\n",
       "      <td>0</td>\n",
       "      <td>1</td>\n",
       "      <td>1</td>\n",
       "      <td>0</td>\n",
       "    </tr>\n",
       "    <tr>\n",
       "      <th>4</th>\n",
       "      <td>54</td>\n",
       "      <td>150</td>\n",
       "      <td>195</td>\n",
       "      <td>0</td>\n",
       "      <td>122</td>\n",
       "      <td>0.0</td>\n",
       "      <td>0</td>\n",
       "      <td>1</td>\n",
       "      <td>0</td>\n",
       "      <td>1</td>\n",
       "      <td>0</td>\n",
       "      <td>1</td>\n",
       "      <td>0</td>\n",
       "      <td>0</td>\n",
       "      <td>0</td>\n",
       "      <td>1</td>\n",
       "    </tr>\n",
       "  </tbody>\n",
       "</table>\n",
       "</div>"
      ],
      "text/plain": [
       "   Age  RestingBP  Cholesterol  FastingBS  MaxHR  Oldpeak  HeartDisease  \\\n",
       "0   40        140          289          0    172      0.0             0   \n",
       "1   49        160          180          0    156      1.0             1   \n",
       "2   37        130          283          0     98      0.0             0   \n",
       "3   48        138          214          0    108      1.5             1   \n",
       "4   54        150          195          0    122      0.0             0   \n",
       "\n",
       "   Sex_M  ChestPainType_ATA  ChestPainType_NAP  ChestPainType_TA  \\\n",
       "0      1                  1                  0                 0   \n",
       "1      0                  0                  1                 0   \n",
       "2      1                  1                  0                 0   \n",
       "3      0                  0                  0                 0   \n",
       "4      1                  0                  1                 0   \n",
       "\n",
       "   RestingECG_Normal  RestingECG_ST  ExerciseAngina_Y  ST_Slope_Flat  \\\n",
       "0                  1              0                 0              0   \n",
       "1                  1              0                 0              1   \n",
       "2                  0              1                 0              0   \n",
       "3                  1              0                 1              1   \n",
       "4                  1              0                 0              0   \n",
       "\n",
       "   ST_Slope_Up  \n",
       "0            1  \n",
       "1            0  \n",
       "2            1  \n",
       "3            0  \n",
       "4            1  "
      ]
     },
     "execution_count": 89,
     "metadata": {},
     "output_type": "execute_result"
    }
   ],
   "source": [
    "df.head()"
   ]
  },
  {
   "cell_type": "code",
   "execution_count": 90,
   "id": "73d26c12-80ca-473c-9302-86a4fb55edc7",
   "metadata": {},
   "outputs": [
    {
     "name": "stderr",
     "output_type": "stream",
     "text": [
      "C:\\Users\\adith\\anaconda3\\lib\\site-packages\\sklearn\\cluster\\_kmeans.py:827: RuntimeWarning: algorithm='elkan' doesn't make sense for a single cluster. Using 'full' instead.\n",
      "  warnings.warn(\"algorithm='elkan' doesn't make sense for a single \"\n",
      "C:\\Users\\adith\\anaconda3\\lib\\site-packages\\sklearn\\cluster\\_kmeans.py:881: UserWarning: KMeans is known to have a memory leak on Windows with MKL, when there are less chunks than available threads. You can avoid it by setting the environment variable OMP_NUM_THREADS=4.\n",
      "  warnings.warn(\n"
     ]
    },
    {
     "data": {
      "text/plain": [
       "<matplotlib.collections.PathCollection at 0x267788f72e0>"
      ]
     },
     "execution_count": 90,
     "metadata": {},
     "output_type": "execute_result"
    },
    {
     "data": {
      "image/png": "[encoded data removed]",
      "text/plain": [
       "<Figure size 432x288 with 1 Axes>"
      ]
     },
     "metadata": {
      "needs_background": "light"
     },
     "output_type": "display_data"
    }
   ],
   "source": [
    "from sklearn.cluster import KMeans\n",
    "import matplotlib.pyplot as plt\n",
    "\n",
    "wss=[]\n",
    "\n",
    "for i in range(1,6):\n",
    "    kmean=KMeans(n_clusters=i,random_state=1,init=\"k-means++\", algorithm = 'elkan')\n",
    "    kmean.fit(dfk)\n",
    "    wss.append(kmean.inertia_)  \n",
    "\n",
    "\n",
    "plt.plot(range(1,6),wss)\n",
    "plt.scatter(range(1,6),wss,color=\"orange\")"
   ]
  },
  {
   "cell_type": "code",
   "execution_count": 91,
   "id": "d6fda052-8177-46e2-89a6-e48f00e60770",
   "metadata": {},
   "outputs": [],
   "source": [
    "#3 Optimal Value\n",
    "km = KMeans(n_clusters=3,random_state=1,init=\"k-means++\", algorithm = 'elkan')\n",
    "km.fit(dfk)\n",
    "Clust = km.predict(dfk)\n"
   ]
  },
  {
   "cell_type": "code",
   "execution_count": 92,
   "id": "5f9040b8",
   "metadata": {},
   "outputs": [
    {
     "data": {
      "text/plain": [
       "0.3580336507783153"
      ]
     },
     "execution_count": 92,
     "metadata": {},
     "output_type": "execute_result"
    }
   ],
   "source": [
    "from sklearn.metrics import silhouette_score\n",
    "kmScore = silhouette_score(dfk, Clust)\n",
    "kmScore"
   ]
  },
  {
   "cell_type": "code",
   "execution_count": 93,
   "id": "f4678d74-5637-471b-8b63-6c0fadeac004",
   "metadata": {},
   "outputs": [
    {
     "data": {
      "text/plain": [
       "(854,)"
      ]
     },
     "execution_count": 93,
     "metadata": {},
     "output_type": "execute_result"
    }
   ],
   "source": [
    "Clust.shape"
   ]
  },
  {
   "cell_type": "code",
   "execution_count": 94,
   "id": "cd31bace-0777-4340-9699-70cf452a7e23",
   "metadata": {},
   "outputs": [],
   "source": [
    "df['cluster'] = Clust"
   ]
  },
  {
   "cell_type": "code",
   "execution_count": 95,
   "id": "61110e16-058a-4acf-8e5c-05cfac06ed47",
   "metadata": {},
   "outputs": [
    {
     "data": {
      "text/html": [
       "<div>\n",
       "<style scoped>\n",
       "    .dataframe tbody tr th:only-of-type {\n",
       "        vertical-align: middle;\n",
       "    }\n",
       "\n",
       "    .dataframe tbody tr th {\n",
       "        vertical-align: top;\n",
       "    }\n",
       "\n",
       "    .dataframe thead th {\n",
       "        text-align: right;\n",
       "    }\n",
       "</style>\n",
       "<table border=\"1\" class=\"dataframe\">\n",
       "  <thead>\n",
       "    <tr style=\"text-align: right;\">\n",
       "      <th></th>\n",
       "      <th>Age</th>\n",
       "      <th>RestingBP</th>\n",
       "      <th>Cholesterol</th>\n",
       "      <th>FastingBS</th>\n",
       "      <th>MaxHR</th>\n",
       "      <th>Oldpeak</th>\n",
       "      <th>HeartDisease</th>\n",
       "      <th>Sex_M</th>\n",
       "      <th>ChestPainType_ATA</th>\n",
       "      <th>ChestPainType_NAP</th>\n",
       "      <th>ChestPainType_TA</th>\n",
       "      <th>RestingECG_Normal</th>\n",
       "      <th>RestingECG_ST</th>\n",
       "      <th>ExerciseAngina_Y</th>\n",
       "      <th>ST_Slope_Flat</th>\n",
       "      <th>ST_Slope_Up</th>\n",
       "      <th>cluster</th>\n",
       "    </tr>\n",
       "  </thead>\n",
       "  <tbody>\n",
       "    <tr>\n",
       "      <th>0</th>\n",
       "      <td>40</td>\n",
       "      <td>140</td>\n",
       "      <td>289</td>\n",
       "      <td>0</td>\n",
       "      <td>172</td>\n",
       "      <td>0.0</td>\n",
       "      <td>0</td>\n",
       "      <td>1</td>\n",
       "      <td>1</td>\n",
       "      <td>0</td>\n",
       "      <td>0</td>\n",
       "      <td>1</td>\n",
       "      <td>0</td>\n",
       "      <td>0</td>\n",
       "      <td>0</td>\n",
       "      <td>1</td>\n",
       "      <td>2</td>\n",
       "    </tr>\n",
       "    <tr>\n",
       "      <th>1</th>\n",
       "      <td>49</td>\n",
       "      <td>160</td>\n",
       "      <td>180</td>\n",
       "      <td>0</td>\n",
       "      <td>156</td>\n",
       "      <td>1.0</td>\n",
       "      <td>1</td>\n",
       "      <td>0</td>\n",
       "      <td>0</td>\n",
       "      <td>1</td>\n",
       "      <td>0</td>\n",
       "      <td>1</td>\n",
       "      <td>0</td>\n",
       "      <td>0</td>\n",
       "      <td>1</td>\n",
       "      <td>0</td>\n",
       "      <td>2</td>\n",
       "    </tr>\n",
       "    <tr>\n",
       "      <th>2</th>\n",
       "      <td>37</td>\n",
       "      <td>130</td>\n",
       "      <td>283</td>\n",
       "      <td>0</td>\n",
       "      <td>98</td>\n",
       "      <td>0.0</td>\n",
       "      <td>0</td>\n",
       "      <td>1</td>\n",
       "      <td>1</td>\n",
       "      <td>0</td>\n",
       "      <td>0</td>\n",
       "      <td>0</td>\n",
       "      <td>1</td>\n",
       "      <td>0</td>\n",
       "      <td>0</td>\n",
       "      <td>1</td>\n",
       "      <td>2</td>\n",
       "    </tr>\n",
       "    <tr>\n",
       "      <th>3</th>\n",
       "      <td>48</td>\n",
       "      <td>138</td>\n",
       "      <td>214</td>\n",
       "      <td>0</td>\n",
       "      <td>108</td>\n",
       "      <td>1.5</td>\n",
       "      <td>1</td>\n",
       "      <td>0</td>\n",
       "      <td>0</td>\n",
       "      <td>0</td>\n",
       "      <td>0</td>\n",
       "      <td>1</td>\n",
       "      <td>0</td>\n",
       "      <td>1</td>\n",
       "      <td>1</td>\n",
       "      <td>0</td>\n",
       "      <td>1</td>\n",
       "    </tr>\n",
       "    <tr>\n",
       "      <th>4</th>\n",
       "      <td>54</td>\n",
       "      <td>150</td>\n",
       "      <td>195</td>\n",
       "      <td>0</td>\n",
       "      <td>122</td>\n",
       "      <td>0.0</td>\n",
       "      <td>0</td>\n",
       "      <td>1</td>\n",
       "      <td>0</td>\n",
       "      <td>1</td>\n",
       "      <td>0</td>\n",
       "      <td>1</td>\n",
       "      <td>0</td>\n",
       "      <td>0</td>\n",
       "      <td>0</td>\n",
       "      <td>1</td>\n",
       "      <td>1</td>\n",
       "    </tr>\n",
       "  </tbody>\n",
       "</table>\n",
       "</div>"
      ],
      "text/plain": [
       "   Age  RestingBP  Cholesterol  FastingBS  MaxHR  Oldpeak  HeartDisease  \\\n",
       "0   40        140          289          0    172      0.0             0   \n",
       "1   49        160          180          0    156      1.0             1   \n",
       "2   37        130          283          0     98      0.0             0   \n",
       "3   48        138          214          0    108      1.5             1   \n",
       "4   54        150          195          0    122      0.0             0   \n",
       "\n",
       "   Sex_M  ChestPainType_ATA  ChestPainType_NAP  ChestPainType_TA  \\\n",
       "0      1                  1                  0                 0   \n",
       "1      0                  0                  1                 0   \n",
       "2      1                  1                  0                 0   \n",
       "3      0                  0                  0                 0   \n",
       "4      1                  0                  1                 0   \n",
       "\n",
       "   RestingECG_Normal  RestingECG_ST  ExerciseAngina_Y  ST_Slope_Flat  \\\n",
       "0                  1              0                 0              0   \n",
       "1                  1              0                 0              1   \n",
       "2                  0              1                 0              0   \n",
       "3                  1              0                 1              1   \n",
       "4                  1              0                 0              0   \n",
       "\n",
       "   ST_Slope_Up  cluster  \n",
       "0            1        2  \n",
       "1            0        2  \n",
       "2            1        2  \n",
       "3            0        1  \n",
       "4            1        1  "
      ]
     },
     "execution_count": 95,
     "metadata": {},
     "output_type": "execute_result"
    }
   ],
   "source": [
    "df.head()"
   ]
  },
  {
   "cell_type": "code",
   "execution_count": 96,
   "id": "c15610c3",
   "metadata": {},
   "outputs": [
    {
     "name": "stdout",
     "output_type": "stream",
     "text": [
      "Cluster 0 Age:                Age\n",
      "count  264.000000\n",
      "mean    57.234848\n",
      "std      5.133740\n",
      "min     50.000000\n",
      "25%     53.000000\n",
      "50%     56.500000\n",
      "75%     60.000000\n",
      "max     77.000000\n"
     ]
    }
   ],
   "source": [
    "print(\"Cluster 0 Age: \", df.loc[df['cluster']== 0 ,['Age'] ].describe())"
   ]
  },
  {
   "cell_type": "code",
   "execution_count": 97,
   "id": "d70c037d",
   "metadata": {},
   "outputs": [
    {
     "name": "stdout",
     "output_type": "stream",
     "text": [
      "Cluster 1 Age:                Age\n",
      "count  353.000000\n",
      "mean    58.382436\n",
      "std      7.103011\n",
      "min     40.000000\n",
      "25%     53.000000\n",
      "50%     58.000000\n",
      "75%     63.000000\n",
      "max     77.000000\n"
     ]
    }
   ],
   "source": [
    "print(\"Cluster 1 Age: \", df.loc[df['cluster']== 1 ,['Age'] ].describe())"
   ]
  },
  {
   "cell_type": "code",
   "execution_count": 98,
   "id": "d5516dbb",
   "metadata": {},
   "outputs": [
    {
     "name": "stdout",
     "output_type": "stream",
     "text": [
      "Cluster 2 Age:                Age\n",
      "count  237.000000\n",
      "mean    41.822785\n",
      "std      4.713197\n",
      "min     28.000000\n",
      "25%     39.000000\n",
      "50%     42.000000\n",
      "75%     45.000000\n",
      "max     49.000000\n"
     ]
    }
   ],
   "source": [
    "print(\"Cluster 2 Age: \", df.loc[df['cluster']== 2 ,['Age'] ].describe())"
   ]
  },
  {
   "cell_type": "code",
   "execution_count": 99,
   "id": "727a48dc",
   "metadata": {},
   "outputs": [
    {
     "name": "stdout",
     "output_type": "stream",
     "text": [
      "Cluster 0 MaxHR:              MaxHR\n",
      "count  264.000000\n",
      "mean   152.147727\n",
      "std     12.055202\n",
      "min    132.000000\n",
      "25%    141.000000\n",
      "50%    150.000000\n",
      "75%    160.000000\n",
      "max    186.000000\n"
     ]
    }
   ],
   "source": [
    "print(\"Cluster 0 MaxHR: \", df.loc[df['cluster']== 0 ,['MaxHR'] ].describe())"
   ]
  },
  {
   "cell_type": "code",
   "execution_count": 100,
   "id": "f12aae55",
   "metadata": {},
   "outputs": [
    {
     "name": "stdout",
     "output_type": "stream",
     "text": [
      "Cluster 1 MaxHR:              MaxHR\n",
      "count  353.000000\n",
      "mean   112.396601\n",
      "std     14.199719\n",
      "min     63.000000\n",
      "25%    104.000000\n",
      "50%    115.000000\n",
      "75%    123.000000\n",
      "max    133.000000\n"
     ]
    }
   ],
   "source": [
    "print(\"Cluster 1 MaxHR: \", df.loc[df['cluster']== 1 ,['MaxHR'] ].describe())"
   ]
  },
  {
   "cell_type": "code",
   "execution_count": 101,
   "id": "a5470a2c",
   "metadata": {},
   "outputs": [
    {
     "name": "stdout",
     "output_type": "stream",
     "text": [
      "Cluster 2 MaxHR:              MaxHR\n",
      "count  237.000000\n",
      "mean   154.379747\n",
      "std     19.839165\n",
      "min     98.000000\n",
      "25%    140.000000\n",
      "50%    153.000000\n",
      "75%    170.000000\n",
      "max    202.000000\n"
     ]
    }
   ],
   "source": [
    "print(\"Cluster 2 MaxHR: \", df.loc[df['cluster']== 2 ,['MaxHR'] ].describe())"
   ]
  },
  {
   "cell_type": "code",
   "execution_count": 102,
   "id": "11107f5a",
   "metadata": {},
   "outputs": [],
   "source": [
    "#cluster 0: 40 - 77 age range  and 63 - 133 MaxHR range\n",
    "#cluster 1: 28 - 49 age range and 98 - 202 MaxHR range\n",
    "#cluster 2: 50 - 77 age range and 132 - 186 MaxHR range"
   ]
  },
  {
   "cell_type": "code",
   "execution_count": 103,
   "id": "76cd968b",
   "metadata": {},
   "outputs": [
    {
     "data": {
      "image/png": "[encoded data removed]",
      "text/plain": [
       "<Figure size 432x288 with 1 Axes>"
      ]
     },
     "metadata": {
      "needs_background": "light"
     },
     "output_type": "display_data"
    }
   ],
   "source": [
    "plt.scatter(dfk[Clust == 0, 0] , dfk[Clust == 0, 1] , label = 'cluster 1', color = 'yellow')\n",
    "plt.scatter(dfk[Clust == 1 , 0] , dfk[Clust == 1 , 1] , label = 'cluster 2', color = 'red')\n",
    "plt.scatter(dfk[Clust == 2, 0] , dfk[Clust == 2, 1] , label = 'cluster 3', color = 'blue')\n",
    "plt.legend()\n",
    "plt.show()"
   ]
  },
  {
   "cell_type": "code",
   "execution_count": 104,
   "id": "8700b1f3",
   "metadata": {},
   "outputs": [],
   "source": [
    "def plot_data(X):\n",
    "    plt.plot(X[:, 0], X[:, 1], 'k.', markersize=1)\n",
    "\n",
    "def plot_centroids(centroids, weights=None, circle_color='w', cross_color='k'):\n",
    "    if weights is not None:\n",
    "        centroids = centroids[weights > weights.max() / 10]\n",
    "    plt.scatter(centroids[:, 0], centroids[:, 1],\n",
    "                marker='o', s=10, linewidths=30,\n",
    "                color=circle_color, zorder=10, alpha=1)\n",
    "    plt.scatter(centroids[:, 0], centroids[:, 1],\n",
    "                marker='x', s=2, linewidths=20,\n",
    "                color=cross_color, zorder=11, alpha=1)\n",
    "\n",
    "def plot_decision_boundaries(clusterer, X, resolution=1000, show_centroids=True,\n",
    "                             show_xlabels=True, show_ylabels=True):\n",
    "    mins = X.min(axis=0) - 0.1\n",
    "    maxs = X.max(axis=0) + 0.1\n",
    "    xx, yy = np.meshgrid(np.linspace(mins[0], maxs[0], resolution),\n",
    "                         np.linspace(mins[1], maxs[1], resolution))\n",
    "    Z = clusterer.predict(np.c_[xx.ravel(), yy.ravel()])\n",
    "    Z = Z.reshape(xx.shape)\n",
    "\n",
    "    plt.contourf(Z, extent=(mins[0], maxs[0], mins[1], maxs[1]),\n",
    "                cmap=\"Pastel2\")\n",
    "    plt.contour(Z, extent=(mins[0], maxs[0], mins[1], maxs[1]),\n",
    "                linewidths=1, colors='k')\n",
    "    plot_data(X)\n",
    "    if show_centroids:\n",
    "        plot_centroids(clusterer.cluster_centers_)\n",
    "\n",
    "    if show_xlabels:\n",
    "        plt.xlabel(\"$x_1$\", fontsize=1)\n",
    "    else:\n",
    "        plt.tick_params(labelbottom=False)\n",
    "    if show_ylabels:\n",
    "        plt.ylabel(\"$x_2$\", fontsize=1, rotation=0)\n",
    "    else:\n",
    "        plt.tick_params(labelleft=False)"
   ]
  },
  {
   "cell_type": "code",
   "execution_count": 105,
   "id": "62cdca3b",
   "metadata": {},
   "outputs": [
    {
     "data": {
      "image/png": "[encoded data removed]",
      "text/plain": [
       "<Figure size 432x288 with 1 Axes>"
      ]
     },
     "metadata": {
      "needs_background": "light"
     },
     "output_type": "display_data"
    }
   ],
   "source": [
    "plt.figure(figsize=(6, 4))\n",
    "plot_decision_boundaries(km,dfk)\n",
    "plt.show()"
   ]
  },
  {
   "cell_type": "markdown",
   "id": "d8c2b97b",
   "metadata": {},
   "source": [
    "# Gaussian Mixture Clustering"
   ]
  },
  {
   "cell_type": "code",
   "execution_count": 106,
   "id": "deb04ebf-f2c7-4b4b-8d85-4ba0b7ada0d0",
   "metadata": {},
   "outputs": [],
   "source": [
    "from sklearn.mixture import GaussianMixture\n",
    "gmm = GaussianMixture(n_components = 3, random_state = 1)\n",
    "gmm.fit(dfk)\n",
    "gmmClust = gmm.predict(dfk)\n"
   ]
  },
  {
   "cell_type": "code",
   "execution_count": 107,
   "id": "ce9063a8",
   "metadata": {},
   "outputs": [
    {
     "data": {
      "text/plain": [
       "0.3568619563396066"
      ]
     },
     "execution_count": 107,
     "metadata": {},
     "output_type": "execute_result"
    }
   ],
   "source": [
    "from sklearn.metrics import silhouette_score\n",
    "gmmScore = silhouette_score(dfk, gmmClust)\n",
    "gmmScore"
   ]
  },
  {
   "cell_type": "code",
   "execution_count": 108,
   "id": "32b388c3-b133-43da-84ac-ec559a7ff31b",
   "metadata": {},
   "outputs": [],
   "source": [
    "df['gmmcluster'] = gmmClust"
   ]
  },
  {
   "cell_type": "code",
   "execution_count": 109,
   "id": "0d3e1b62-76af-4c81-a003-2ac30764dc40",
   "metadata": {},
   "outputs": [
    {
     "data": {
      "text/html": [
       "<div>\n",
       "<style scoped>\n",
       "    .dataframe tbody tr th:only-of-type {\n",
       "        vertical-align: middle;\n",
       "    }\n",
       "\n",
       "    .dataframe tbody tr th {\n",
       "        vertical-align: top;\n",
       "    }\n",
       "\n",
       "    .dataframe thead th {\n",
       "        text-align: right;\n",
       "    }\n",
       "</style>\n",
       "<table border=\"1\" class=\"dataframe\">\n",
       "  <thead>\n",
       "    <tr style=\"text-align: right;\">\n",
       "      <th></th>\n",
       "      <th>Age</th>\n",
       "      <th>RestingBP</th>\n",
       "      <th>Cholesterol</th>\n",
       "      <th>FastingBS</th>\n",
       "      <th>MaxHR</th>\n",
       "      <th>Oldpeak</th>\n",
       "      <th>HeartDisease</th>\n",
       "      <th>Sex_M</th>\n",
       "      <th>ChestPainType_ATA</th>\n",
       "      <th>ChestPainType_NAP</th>\n",
       "      <th>ChestPainType_TA</th>\n",
       "      <th>RestingECG_Normal</th>\n",
       "      <th>RestingECG_ST</th>\n",
       "      <th>ExerciseAngina_Y</th>\n",
       "      <th>ST_Slope_Flat</th>\n",
       "      <th>ST_Slope_Up</th>\n",
       "      <th>cluster</th>\n",
       "      <th>gmmcluster</th>\n",
       "    </tr>\n",
       "  </thead>\n",
       "  <tbody>\n",
       "    <tr>\n",
       "      <th>0</th>\n",
       "      <td>40</td>\n",
       "      <td>140</td>\n",
       "      <td>289</td>\n",
       "      <td>0</td>\n",
       "      <td>172</td>\n",
       "      <td>0.0</td>\n",
       "      <td>0</td>\n",
       "      <td>1</td>\n",
       "      <td>1</td>\n",
       "      <td>0</td>\n",
       "      <td>0</td>\n",
       "      <td>1</td>\n",
       "      <td>0</td>\n",
       "      <td>0</td>\n",
       "      <td>0</td>\n",
       "      <td>1</td>\n",
       "      <td>2</td>\n",
       "      <td>2</td>\n",
       "    </tr>\n",
       "    <tr>\n",
       "      <th>1</th>\n",
       "      <td>49</td>\n",
       "      <td>160</td>\n",
       "      <td>180</td>\n",
       "      <td>0</td>\n",
       "      <td>156</td>\n",
       "      <td>1.0</td>\n",
       "      <td>1</td>\n",
       "      <td>0</td>\n",
       "      <td>0</td>\n",
       "      <td>1</td>\n",
       "      <td>0</td>\n",
       "      <td>1</td>\n",
       "      <td>0</td>\n",
       "      <td>0</td>\n",
       "      <td>1</td>\n",
       "      <td>0</td>\n",
       "      <td>2</td>\n",
       "      <td>0</td>\n",
       "    </tr>\n",
       "    <tr>\n",
       "      <th>2</th>\n",
       "      <td>37</td>\n",
       "      <td>130</td>\n",
       "      <td>283</td>\n",
       "      <td>0</td>\n",
       "      <td>98</td>\n",
       "      <td>0.0</td>\n",
       "      <td>0</td>\n",
       "      <td>1</td>\n",
       "      <td>1</td>\n",
       "      <td>0</td>\n",
       "      <td>0</td>\n",
       "      <td>0</td>\n",
       "      <td>1</td>\n",
       "      <td>0</td>\n",
       "      <td>0</td>\n",
       "      <td>1</td>\n",
       "      <td>2</td>\n",
       "      <td>1</td>\n",
       "    </tr>\n",
       "    <tr>\n",
       "      <th>3</th>\n",
       "      <td>48</td>\n",
       "      <td>138</td>\n",
       "      <td>214</td>\n",
       "      <td>0</td>\n",
       "      <td>108</td>\n",
       "      <td>1.5</td>\n",
       "      <td>1</td>\n",
       "      <td>0</td>\n",
       "      <td>0</td>\n",
       "      <td>0</td>\n",
       "      <td>0</td>\n",
       "      <td>1</td>\n",
       "      <td>0</td>\n",
       "      <td>1</td>\n",
       "      <td>1</td>\n",
       "      <td>0</td>\n",
       "      <td>1</td>\n",
       "      <td>1</td>\n",
       "    </tr>\n",
       "    <tr>\n",
       "      <th>4</th>\n",
       "      <td>54</td>\n",
       "      <td>150</td>\n",
       "      <td>195</td>\n",
       "      <td>0</td>\n",
       "      <td>122</td>\n",
       "      <td>0.0</td>\n",
       "      <td>0</td>\n",
       "      <td>1</td>\n",
       "      <td>0</td>\n",
       "      <td>1</td>\n",
       "      <td>0</td>\n",
       "      <td>1</td>\n",
       "      <td>0</td>\n",
       "      <td>0</td>\n",
       "      <td>0</td>\n",
       "      <td>1</td>\n",
       "      <td>1</td>\n",
       "      <td>1</td>\n",
       "    </tr>\n",
       "  </tbody>\n",
       "</table>\n",
       "</div>"
      ],
      "text/plain": [
       "   Age  RestingBP  Cholesterol  FastingBS  MaxHR  Oldpeak  HeartDisease  \\\n",
       "0   40        140          289          0    172      0.0             0   \n",
       "1   49        160          180          0    156      1.0             1   \n",
       "2   37        130          283          0     98      0.0             0   \n",
       "3   48        138          214          0    108      1.5             1   \n",
       "4   54        150          195          0    122      0.0             0   \n",
       "\n",
       "   Sex_M  ChestPainType_ATA  ChestPainType_NAP  ChestPainType_TA  \\\n",
       "0      1                  1                  0                 0   \n",
       "1      0                  0                  1                 0   \n",
       "2      1                  1                  0                 0   \n",
       "3      0                  0                  0                 0   \n",
       "4      1                  0                  1                 0   \n",
       "\n",
       "   RestingECG_Normal  RestingECG_ST  ExerciseAngina_Y  ST_Slope_Flat  \\\n",
       "0                  1              0                 0              0   \n",
       "1                  1              0                 0              1   \n",
       "2                  0              1                 0              0   \n",
       "3                  1              0                 1              1   \n",
       "4                  1              0                 0              0   \n",
       "\n",
       "   ST_Slope_Up  cluster  gmmcluster  \n",
       "0            1        2           2  \n",
       "1            0        2           0  \n",
       "2            1        2           1  \n",
       "3            0        1           1  \n",
       "4            1        1           1  "
      ]
     },
     "execution_count": 109,
     "metadata": {},
     "output_type": "execute_result"
    }
   ],
   "source": [
    "df.head()"
   ]
  },
  {
   "cell_type": "code",
   "execution_count": 110,
   "id": "30b68d74",
   "metadata": {},
   "outputs": [
    {
     "name": "stdout",
     "output_type": "stream",
     "text": [
      "Cluster 0 Age:                Age\n",
      "count  262.000000\n",
      "mean    56.412214\n",
      "std      5.254985\n",
      "min     48.000000\n",
      "25%     52.000000\n",
      "50%     56.000000\n",
      "75%     60.000000\n",
      "max     71.000000\n"
     ]
    }
   ],
   "source": [
    "print(\"Cluster 0 Age: \", df.loc[df['gmmcluster']== 0 ,['Age'] ].describe())"
   ]
  },
  {
   "cell_type": "code",
   "execution_count": 111,
   "id": "f8b96a74",
   "metadata": {},
   "outputs": [
    {
     "name": "stdout",
     "output_type": "stream",
     "text": [
      "Cluster 1 Age:                Age\n",
      "count  386.000000\n",
      "mean    58.033679\n",
      "std      7.377143\n",
      "min     37.000000\n",
      "25%     53.000000\n",
      "50%     58.000000\n",
      "75%     63.000000\n",
      "max     77.000000\n"
     ]
    }
   ],
   "source": [
    "print(\"Cluster 1 Age: \", df.loc[df['gmmcluster']== 1 ,['Age'] ].describe())"
   ]
  },
  {
   "cell_type": "code",
   "execution_count": 112,
   "id": "c493a006",
   "metadata": {},
   "outputs": [
    {
     "name": "stdout",
     "output_type": "stream",
     "text": [
      "Cluster 2 Age:                Age\n",
      "count  206.000000\n",
      "mean    41.019417\n",
      "std      4.386188\n",
      "min     28.000000\n",
      "25%     38.000000\n",
      "50%     41.000000\n",
      "75%     44.000000\n",
      "max     49.000000\n"
     ]
    }
   ],
   "source": [
    "print(\"Cluster 2 Age: \", df.loc[df['gmmcluster']== 2 ,['Age'] ].describe())"
   ]
  },
  {
   "cell_type": "code",
   "execution_count": 113,
   "id": "a551a993",
   "metadata": {},
   "outputs": [
    {
     "name": "stdout",
     "output_type": "stream",
     "text": [
      "Cluster 0 MaxHR:              MaxHR\n",
      "count  262.000000\n",
      "mean   154.480916\n",
      "std     11.695925\n",
      "min    137.000000\n",
      "25%    144.000000\n",
      "50%    154.000000\n",
      "75%    162.000000\n",
      "max    186.000000\n"
     ]
    }
   ],
   "source": [
    "print(\"Cluster 0 MaxHR: \", df.loc[df['gmmcluster']== 0 ,['MaxHR'] ].describe())"
   ]
  },
  {
   "cell_type": "code",
   "execution_count": 114,
   "id": "c089fb79",
   "metadata": {},
   "outputs": [
    {
     "name": "stdout",
     "output_type": "stream",
     "text": [
      "Cluster 1 MaxHR:              MaxHR\n",
      "count  386.000000\n",
      "mean   113.981865\n",
      "std     14.868853\n",
      "min     63.000000\n",
      "25%    105.000000\n",
      "50%    117.000000\n",
      "75%    125.000000\n",
      "max    162.000000\n"
     ]
    }
   ],
   "source": [
    "print(\"Cluster 1 MaxHR: \", df.loc[df['gmmcluster']== 1 ,['MaxHR'] ].describe())"
   ]
  },
  {
   "cell_type": "code",
   "execution_count": 115,
   "id": "9b1375c5",
   "metadata": {},
   "outputs": [
    {
     "name": "stdout",
     "output_type": "stream",
     "text": [
      "Cluster 2 MaxHR:              MaxHR\n",
      "count  206.000000\n",
      "mean   155.145631\n",
      "std     19.088961\n",
      "min    114.000000\n",
      "25%    140.000000\n",
      "50%    152.500000\n",
      "75%    170.000000\n",
      "max    202.000000\n"
     ]
    }
   ],
   "source": [
    "print(\"Cluster 2 MaxHR: \", df.loc[df['gmmcluster']== 2 ,['MaxHR'] ].describe())"
   ]
  },
  {
   "cell_type": "code",
   "execution_count": 116,
   "id": "b12e1d3d-7bf3-494b-9a34-faf49d81b1dd",
   "metadata": {},
   "outputs": [
    {
     "data": {
      "image/png": "[encoded data removed]",
      "text/plain": [
       "<Figure size 432x288 with 1 Axes>"
      ]
     },
     "metadata": {
      "needs_background": "light"
     },
     "output_type": "display_data"
    }
   ],
   "source": [
    "plt.scatter(dfk[gmmClust == 0, 0] , dfk[gmmClust == 0, 1] , label = 'cluster 1', color = 'yellow')\n",
    "plt.scatter(dfk[gmmClust == 1 , 0] , dfk[gmmClust == 1 , 1] , label = 'cluster 2', color = 'red')\n",
    "plt.scatter(dfk[gmmClust == 2, 0] , dfk[gmmClust == 2, 1] , label = 'cluster 3', color = 'blue')\n",
    "plt.legend()\n",
    "plt.show()"
   ]
  },
  {
   "cell_type": "code",
   "execution_count": 117,
   "id": "96bd2f56",
   "metadata": {},
   "outputs": [],
   "source": [
    "#cluster 0: 48 - 71 age range and 137 - 186 MaxHR range\n",
    "#cluster 1: 37 - 77 age range and 63 - 162 MaxHR range\n",
    "#cluster 2: 28 - 49 age range and 114 - 202 MaxHR range"
   ]
  },
  {
   "cell_type": "markdown",
   "id": "9dd07b62",
   "metadata": {},
   "source": [
    "# Decision Tress Classification"
   ]
  },
  {
   "cell_type": "code",
   "execution_count": 118,
   "id": "51d21a72",
   "metadata": {},
   "outputs": [
    {
     "name": "stdout",
     "output_type": "stream",
     "text": [
      "Accuracy: 0.7921875\n",
      "Precision: 0.8016958425003617\n",
      "Recall: 0.8289388392161798\n",
      "F1: 0.8125804331926675\n"
     ]
    }
   ],
   "source": [
    "# Decision Tree\n",
    "\n",
    "from sklearn.tree import DecisionTreeClassifier\n",
    "from sklearn import metrics\n",
    "from sklearn.model_selection import train_test_split\n",
    "from sklearn.model_selection import cross_validate\n",
    "from sklearn.model_selection import KFold\n",
    "\n",
    "scoring = {'accuracy' : metrics.make_scorer(metrics.accuracy_score), \n",
    "           'precision' : metrics.make_scorer(metrics.precision_score),\n",
    "           'recall' : metrics.make_scorer(metrics.recall_score), \n",
    "           'f1_score' : metrics.make_scorer(metrics.f1_score)}\n",
    "\n",
    "Xdt = df.drop('HeartDisease', axis=1)\n",
    "Ydt = df['HeartDisease']\n",
    "Xdt_train, Xdt_test, ydt_train, ydt_test = train_test_split(Xdt, Ydt, test_size=0.25, random_state=10)\n",
    "\n",
    "DT = DecisionTreeClassifier(random_state=10)\n",
    "DT = DT.fit(Xdt_train,ydt_train)\n",
    "\n",
    "kf = KFold(n_splits=10)\n",
    "\n",
    "res = cross_validate(DT , Xdt_train, ydt_train,scoring=scoring, cv = kf)\n",
    "res\n",
    "print(\"Accuracy:\",np.mean(res['test_accuracy']))\n",
    "print(\"Precision:\",np.mean(res['test_precision']))\n",
    "print(\"Recall:\",np.mean(res['test_recall']))\n",
    "print(\"F1:\",np.mean(res['test_f1_score']))"
   ]
  },
  {
   "cell_type": "code",
   "execution_count": 119,
   "id": "2e9d5749",
   "metadata": {},
   "outputs": [],
   "source": [
    "from sklearn.tree import DecisionTreeClassifier\n",
    "from sklearn import metrics\n",
    "from sklearn.model_selection import train_test_split\n",
    "Xdt = df.drop('HeartDisease', axis=1)\n",
    "Ydt = df['HeartDisease']\n",
    "Xdt_train, Xdt_test, ydt_train, ydt_test = train_test_split(Xdt, Ydt, test_size=0.25, random_state=10)"
   ]
  },
  {
   "cell_type": "code",
   "execution_count": 120,
   "id": "4df21efb",
   "metadata": {},
   "outputs": [
    {
     "name": "stdout",
     "output_type": "stream",
     "text": [
      "Accuracy: 0.7757009345794392\n",
      "precision: 0.84\n",
      "recall: 0.7241379310344828\n",
      "F1 score: 0.7777777777777777\n",
      "AUC: 0.780436312456017\n"
     ]
    }
   ],
   "source": [
    "DT = DecisionTreeClassifier(random_state=10)\n",
    "DT = DT.fit(Xdt_train,ydt_train)\n",
    "\n",
    "ydt_pred = DT.predict(Xdt_test)\n",
    "print(\"Accuracy:\",metrics.accuracy_score(ydt_test, ydt_pred))\n",
    "print(\"precision:\",metrics.precision_score(ydt_test, ydt_pred))\n",
    "print(\"recall:\",metrics.recall_score(ydt_test, ydt_pred))\n",
    "print(\"F1 score:\",metrics.f1_score(ydt_test, ydt_pred))\n",
    "\n",
    "from sklearn.metrics import roc_curve\n",
    "probdt = DT.predict_proba(Xdt_test)[:, 1]\n",
    "\n",
    "fpr, tpr, thresholds = roc_curve(ydt_test, probdt)\n",
    "print(\"AUC:\",metrics.roc_auc_score(ydt_test, probdt))"
   ]
  },
  {
   "cell_type": "code",
   "execution_count": 121,
   "id": "97c54b49",
   "metadata": {},
   "outputs": [
    {
     "name": "stdout",
     "output_type": "stream",
     "text": [
      "Accuracy: 0.8177570093457944\n",
      "precision: 0.8407079646017699\n",
      "recall: 0.8189655172413793\n",
      "F1 score: 0.8296943231441049\n",
      "AUC: 0.7745425756509501\n"
     ]
    }
   ],
   "source": [
    "DT = DecisionTreeClassifier(random_state=10,max_depth = 8)\n",
    "DT = DT.fit(Xdt_train,ydt_train)\n",
    "\n",
    "ydt_pred = DT.predict(Xdt_test)\n",
    "print(\"Accuracy:\",metrics.accuracy_score(ydt_test, ydt_pred))\n",
    "print(\"precision:\",metrics.precision_score(ydt_test, ydt_pred))\n",
    "print(\"recall:\",metrics.recall_score(ydt_test, ydt_pred))\n",
    "print(\"F1 score:\",metrics.f1_score(ydt_test, ydt_pred))\n",
    "from sklearn.metrics import roc_curve\n",
    "probdt = DT.predict_proba(Xdt_test)[:, 1]\n",
    "\n",
    "fpr, tpr, thresholds = roc_curve(ydt_test, probdt)\n",
    "print(\"AUC:\",metrics.roc_auc_score(ydt_test, probdt))"
   ]
  },
  {
   "cell_type": "code",
   "execution_count": 122,
   "id": "513cda10",
   "metadata": {},
   "outputs": [
    {
     "name": "stdout",
     "output_type": "stream",
     "text": [
      "Accuracy: 0.7990654205607477\n",
      "precision: 0.8613861386138614\n",
      "recall: 0.75\n",
      "F1 score: 0.8018433179723503\n",
      "AUC: 0.8035714285714286\n"
     ]
    }
   ],
   "source": [
    "DT = DecisionTreeClassifier(random_state=10, splitter= \"random\")\n",
    "DT = DT.fit(Xdt_train,ydt_train)\n",
    "\n",
    "ydt_pred = DT.predict(Xdt_test)\n",
    "print(\"Accuracy:\",metrics.accuracy_score(ydt_test, ydt_pred))\n",
    "print(\"precision:\",metrics.precision_score(ydt_test, ydt_pred))\n",
    "print(\"recall:\",metrics.recall_score(ydt_test, ydt_pred))\n",
    "print(\"F1 score:\",metrics.f1_score(ydt_test, ydt_pred))\n",
    "\n",
    "from sklearn.metrics import roc_curve\n",
    "probdt = DT.predict_proba(Xdt_test)[:, 1]\n",
    "\n",
    "fpr, tpr, thresholds = roc_curve(ydt_test, probdt)\n",
    "print(\"AUC:\",metrics.roc_auc_score(ydt_test, probdt))"
   ]
  },
  {
   "cell_type": "code",
   "execution_count": 123,
   "id": "28a45a02",
   "metadata": {},
   "outputs": [
    {
     "name": "stdout",
     "output_type": "stream",
     "text": [
      "Accuracy: 0.7935323383084577\n",
      "precision: 0.8\n",
      "recall: 0.8186046511627907\n",
      "F1 score: 0.8091954022988507\n",
      "AUC: 0.7916552667578659\n"
     ]
    }
   ],
   "source": [
    "Xdt_train, Xdt_test, ydt_train, ydt_test = train_test_split(Xdt, Ydt, test_size=0.47, random_state=10)\n",
    "DT = DecisionTreeClassifier(random_state=10)\n",
    "DT = DT.fit(Xdt_train,ydt_train)\n",
    "\n",
    "ydt_pred = DT.predict(Xdt_test)\n",
    "print(\"Accuracy:\",metrics.accuracy_score(ydt_test, ydt_pred))\n",
    "print(\"precision:\",metrics.precision_score(ydt_test, ydt_pred))\n",
    "print(\"recall:\",metrics.recall_score(ydt_test, ydt_pred))\n",
    "print(\"F1 score:\",metrics.f1_score(ydt_test, ydt_pred))\n",
    "\n",
    "from sklearn.metrics import roc_curve\n",
    "probdt = DT.predict_proba(Xdt_test)[:, 1]\n",
    "\n",
    "fpr, tpr, thresholds = roc_curve(ydt_test, probdt)\n",
    "print(\"AUC:\",metrics.roc_auc_score(ydt_test, probdt))"
   ]
  },
  {
   "cell_type": "code",
   "execution_count": 124,
   "id": "25f140f6",
   "metadata": {
    "scrolled": true
   },
   "outputs": [
    {
     "name": "stdout",
     "output_type": "stream",
     "text": [
      "Accuracy: 0.7842809364548495\n",
      "precision: 0.8379310344827586\n",
      "recall: 0.7476923076923077\n",
      "F1 score: 0.7902439024390244\n",
      "AUC: 0.7877655677655677\n"
     ]
    }
   ],
   "source": [
    "Xdt_train, Xdt_test, ydt_train, ydt_test = train_test_split(Xdt, Ydt, test_size=0.70, random_state=10)\n",
    "DT = DecisionTreeClassifier(random_state=10)\n",
    "DT = DT.fit(Xdt_train,ydt_train)\n",
    "\n",
    "ydt_pred = DT.predict(Xdt_test)\n",
    "print(\"Accuracy:\",metrics.accuracy_score(ydt_test, ydt_pred))\n",
    "print(\"precision:\",metrics.precision_score(ydt_test, ydt_pred))\n",
    "print(\"recall:\",metrics.recall_score(ydt_test, ydt_pred))\n",
    "print(\"F1 score:\",metrics.f1_score(ydt_test, ydt_pred))\n",
    "\n",
    "from sklearn.metrics import roc_curve\n",
    "probdt = DT.predict_proba(Xdt_test)[:, 1]\n",
    "\n",
    "fpr, tpr, thresholds = roc_curve(ydt_test, probdt)\n",
    "print(\"AUC:\",metrics.roc_auc_score(ydt_test, probdt))"
   ]
  },
  {
   "cell_type": "markdown",
   "id": "b326659f",
   "metadata": {},
   "source": [
    "# Random Forest Classification"
   ]
  },
  {
   "cell_type": "code",
   "execution_count": 125,
   "id": "2eac7a51",
   "metadata": {},
   "outputs": [
    {
     "name": "stdout",
     "output_type": "stream",
     "text": [
      "Accuracy: 0.85625\n",
      "Precision: 0.8640323722695147\n",
      "Recall: 0.8824636363523067\n",
      "F1: 0.8711218913647449\n"
     ]
    }
   ],
   "source": [
    "#Random Forest\n",
    "from sklearn.ensemble import RandomForestClassifier\n",
    "from sklearn import metrics\n",
    "from sklearn.model_selection import train_test_split\n",
    "from sklearn.model_selection import cross_validate\n",
    "from sklearn.model_selection import KFold\n",
    "\n",
    "scoring = {'accuracy' : metrics.make_scorer(metrics.accuracy_score), \n",
    "           'precision' : metrics.make_scorer(metrics.precision_score),\n",
    "           'recall' : metrics.make_scorer(metrics.recall_score), \n",
    "           'f1_score' : metrics.make_scorer(metrics.f1_score)}\n",
    "\n",
    "Xdt = df.drop('HeartDisease', axis=1)\n",
    "Ydt = df['HeartDisease']\n",
    "Xdt_train, Xdt_test, ydt_train, ydt_test = train_test_split(Xdt, Ydt, test_size=0.25, random_state=10)\n",
    "\n",
    "RF = RandomForestClassifier(random_state=10)\n",
    "RF = RF.fit(Xdt_train,ydt_train)\n",
    "\n",
    "kf = KFold(n_splits=10)\n",
    "\n",
    "res = cross_validate(RF , Xdt_train, ydt_train,scoring=scoring, cv = kf)\n",
    "res\n",
    "print(\"Accuracy:\",np.mean(res['test_accuracy']))\n",
    "print(\"Precision:\",np.mean(res['test_precision']))\n",
    "print(\"Recall:\",np.mean(res['test_recall']))\n",
    "print(\"F1:\",np.mean(res['test_f1_score']))"
   ]
  },
  {
   "cell_type": "code",
   "execution_count": 126,
   "id": "84da0fba",
   "metadata": {},
   "outputs": [
    {
     "name": "stdout",
     "output_type": "stream",
     "text": [
      "Accuracy: 0.9205607476635514\n",
      "precision: 0.9459459459459459\n",
      "recall: 0.9051724137931034\n",
      "F1 score: 0.9251101321585904\n",
      "AUC: 0.9531140042223787\n"
     ]
    }
   ],
   "source": [
    "RF = RandomForestClassifier(random_state=10)\n",
    "RF = RF.fit(Xdt_train,ydt_train)\n",
    "\n",
    "ydt_pred = RF.predict(Xdt_test)\n",
    "print(\"Accuracy:\",metrics.accuracy_score(ydt_test, ydt_pred))\n",
    "print(\"precision:\",metrics.precision_score(ydt_test, ydt_pred))\n",
    "print(\"recall:\",metrics.recall_score(ydt_test, ydt_pred))\n",
    "print(\"F1 score:\",metrics.f1_score(ydt_test, ydt_pred))\n",
    "\n",
    "from sklearn.metrics import roc_curve\n",
    "probdt = RF.predict_proba(Xdt_test)[:, 1]\n",
    "\n",
    "fpr, tpr, thresholds = roc_curve(ydt_test, probdt)\n",
    "print(\"AUC:\",metrics.roc_auc_score(ydt_test, probdt))"
   ]
  },
  {
   "cell_type": "code",
   "execution_count": 127,
   "id": "7fa1266c",
   "metadata": {},
   "outputs": [
    {
     "name": "stdout",
     "output_type": "stream",
     "text": [
      "Accuracy: 0.897196261682243\n",
      "precision: 0.9196428571428571\n",
      "recall: 0.8879310344827587\n",
      "F1 score: 0.9035087719298246\n",
      "AUC: 0.9561928219563687\n"
     ]
    }
   ],
   "source": [
    "RF = RandomForestClassifier(random_state=10,max_depth = 7)\n",
    "RF = RF.fit(Xdt_train,ydt_train)\n",
    "\n",
    "ydt_pred = RF.predict(Xdt_test)\n",
    "print(\"Accuracy:\",metrics.accuracy_score(ydt_test, ydt_pred))\n",
    "print(\"precision:\",metrics.precision_score(ydt_test, ydt_pred))\n",
    "print(\"recall:\",metrics.recall_score(ydt_test, ydt_pred))\n",
    "print(\"F1 score:\",metrics.f1_score(ydt_test, ydt_pred))\n",
    "from sklearn.metrics import roc_curve\n",
    "probdt = RF.predict_proba(Xdt_test)[:, 1]\n",
    "\n",
    "fpr, tpr, thresholds = roc_curve(ydt_test, probdt)\n",
    "print(\"AUC:\",metrics.roc_auc_score(ydt_test, probdt))"
   ]
  },
  {
   "cell_type": "code",
   "execution_count": 128,
   "id": "643c1d39",
   "metadata": {},
   "outputs": [
    {
     "name": "stdout",
     "output_type": "stream",
     "text": [
      "Accuracy: 0.8880597014925373\n",
      "precision: 0.9009433962264151\n",
      "recall: 0.8883720930232558\n",
      "F1 score: 0.8946135831381734\n",
      "AUC: 0.9356050242507151\n"
     ]
    }
   ],
   "source": [
    "Xdt_train, Xdt_test, ydt_train, ydt_test = train_test_split(Xdt, Ydt, test_size=0.47, random_state=10)\n",
    "RF = RandomForestClassifier(random_state=10)\n",
    "RF = RF.fit(Xdt_train,ydt_train)\n",
    "\n",
    "ydt_pred = RF.predict(Xdt_test)\n",
    "print(\"Accuracy:\",metrics.accuracy_score(ydt_test, ydt_pred))\n",
    "print(\"precision:\",metrics.precision_score(ydt_test, ydt_pred))\n",
    "print(\"recall:\",metrics.recall_score(ydt_test, ydt_pred))\n",
    "print(\"F1 score:\",metrics.f1_score(ydt_test, ydt_pred))\n",
    "\n",
    "from sklearn.metrics import roc_curve\n",
    "probdt = RF.predict_proba(Xdt_test)[:, 1]\n",
    "\n",
    "fpr, tpr, thresholds = roc_curve(ydt_test, probdt)\n",
    "print(\"AUC:\",metrics.roc_auc_score(ydt_test, probdt))"
   ]
  },
  {
   "cell_type": "code",
   "execution_count": 129,
   "id": "044b4d1c",
   "metadata": {},
   "outputs": [
    {
     "name": "stdout",
     "output_type": "stream",
     "text": [
      "Accuracy: 0.8695652173913043\n",
      "precision: 0.8871473354231975\n",
      "recall: 0.8707692307692307\n",
      "F1 score: 0.8788819875776397\n",
      "AUC: 0.9311242603550296\n"
     ]
    }
   ],
   "source": [
    "Xdt_train, Xdt_test, ydt_train, ydt_test = train_test_split(Xdt, Ydt, test_size=0.70, random_state=10)\n",
    "RF = RandomForestClassifier(random_state=10)\n",
    "RF = RF.fit(Xdt_train,ydt_train)\n",
    "\n",
    "ydt_pred = RF.predict(Xdt_test)\n",
    "print(\"Accuracy:\",metrics.accuracy_score(ydt_test, ydt_pred))\n",
    "print(\"precision:\",metrics.precision_score(ydt_test, ydt_pred))\n",
    "print(\"recall:\",metrics.recall_score(ydt_test, ydt_pred))\n",
    "print(\"F1 score:\",metrics.f1_score(ydt_test, ydt_pred))\n",
    "\n",
    "from sklearn.metrics import roc_curve\n",
    "probdt = RF.predict_proba(Xdt_test)[:, 1]\n",
    "\n",
    "fpr, tpr, thresholds = roc_curve(ydt_test, probdt)\n",
    "print(\"AUC:\",metrics.roc_auc_score(ydt_test, probdt))"
   ]
  },
  {
   "cell_type": "markdown",
   "id": "4f201320",
   "metadata": {},
   "source": [
    "# SVM Linear Classifier "
   ]
  },
  {
   "cell_type": "code",
   "execution_count": 130,
   "id": "86cd7d14",
   "metadata": {},
   "outputs": [],
   "source": [
    "from sklearn.svm import SVC\n",
    "from sklearn import metrics\n",
    "from sklearn.model_selection import train_test_split\n",
    "Xlr = df.drop('HeartDisease', axis=1)\n",
    "Ylr = df['HeartDisease']\n",
    "Xlr_train, Xlr_test, ylr_train, ylr_test = train_test_split(Xlr, Ylr, test_size=0.25, random_state=10)"
   ]
  },
  {
   "cell_type": "code",
   "execution_count": 143,
   "id": "f248441f",
   "metadata": {},
   "outputs": [
    {
     "name": "stdout",
     "output_type": "stream",
     "text": [
      "Accuracy: 0.846875\n"
     ]
    }
   ],
   "source": [
    "scoring = {'accuracy' : metrics.make_scorer(metrics.accuracy_score), \n",
    "           'precision' : metrics.make_scorer(metrics.precision_score),\n",
    "           'recall' : metrics.make_scorer(metrics.recall_score), \n",
    "           'f1_score' : metrics.make_scorer(metrics.f1_score)}\n",
    "\n",
    "SVM = SVC(random_state=10, kernel='linear').fit(Xlr_train,ylr_train)\n",
    "kf = KFold(n_splits=10)\n",
    "\n",
    "res = cross_validate(SVM , Xlr_train, ylr_train,scoring=scoring, cv = kf)\n",
    "print(\"Accuracy:\",np.mean(res['test_accuracy']))"
   ]
  },
  {
   "cell_type": "code",
   "execution_count": 132,
   "id": "3ab2739a",
   "metadata": {},
   "outputs": [
    {
     "name": "stdout",
     "output_type": "stream",
     "text": [
      "Accuracy: 0.8785714285714284\n"
     ]
    }
   ],
   "source": [
    "restest = cross_validate(SVM , Xlr_test, ylr_test,scoring=scoring, cv = kf)\n",
    "\n",
    "print(\"Accuracy:\",np.mean(restest['test_accuracy']))"
   ]
  },
  {
   "cell_type": "code",
   "execution_count": 133,
   "id": "ccc380c7",
   "metadata": {},
   "outputs": [
    {
     "name": "stdout",
     "output_type": "stream",
     "text": [
      "Accuracy: 0.9065420560747663\n"
     ]
    }
   ],
   "source": [
    "ylr_pred = SVM.predict(Xlr_test)\n",
    "print(\"Accuracy:\",metrics.accuracy_score(ylr_test, ylr_pred))"
   ]
  },
  {
   "cell_type": "code",
   "execution_count": 134,
   "id": "be934ca4",
   "metadata": {},
   "outputs": [
    {
     "name": "stdout",
     "output_type": "stream",
     "text": [
      "Accuracy: 0.8671875\n"
     ]
    }
   ],
   "source": [
    "ylr_pred = SVM.predict(Xlr_train)\n",
    "print(\"Accuracy:\",metrics.accuracy_score(ylr_train, ylr_pred))"
   ]
  },
  {
   "cell_type": "markdown",
   "id": "fd1b1aaa",
   "metadata": {},
   "source": [
    "# Multi-layer Perceptron Classifier"
   ]
  },
  {
   "cell_type": "code",
   "execution_count": 141,
   "id": "4efee7a7",
   "metadata": {},
   "outputs": [
    {
     "name": "stdout",
     "output_type": "stream",
     "text": [
      "Accuracy: 0.8738317757009346\n"
     ]
    }
   ],
   "source": [
    "from sklearn.neural_network import MLPClassifier\n",
    "MLP = MLPClassifier(random_state=10).fit(Xlr_train,ylr_train)\n",
    "ylp_pred = MLP.predict(Xlr_test)\n",
    "\n",
    "print(\"Accuracy:\",metrics.accuracy_score(ylr_test, ylp_pred))"
   ]
  },
  {
   "cell_type": "code",
   "execution_count": 137,
   "id": "348c8b6e",
   "metadata": {},
   "outputs": [
    {
     "name": "stdout",
     "output_type": "stream",
     "text": [
      "Accuracy: 0.897196261682243\n"
     ]
    }
   ],
   "source": [
    "MLP = MLPClassifier(random_state=10, activation='logistic', learning_rate='invscaling', max_iter=300).fit(Xlr_train,ylr_train)\n",
    "ylp_pred = MLP.predict(Xlr_test)\n",
    "print(\"Accuracy:\",metrics.accuracy_score(ylr_test, ylp_pred))"
   ]
  },
  {
   "cell_type": "code",
   "execution_count": 138,
   "id": "9b990d15",
   "metadata": {},
   "outputs": [
    {
     "name": "stdout",
     "output_type": "stream",
     "text": [
      "Accuracy: 0.9065420560747663\n"
     ]
    }
   ],
   "source": [
    "MLP = MLPClassifier(random_state=10, hidden_layer_sizes=(100,50,25), activation='logistic', learning_rate='invscaling', max_iter=300).fit(Xlr_train,ylr_train)\n",
    "ylp_pred = MLP.predict(Xlr_test)\n",
    "print(\"Accuracy:\",metrics.accuracy_score(ylr_test, ylp_pred))"
   ]
  },
  {
   "cell_type": "code",
   "execution_count": 139,
   "id": "6c986bd3",
   "metadata": {},
   "outputs": [
    {
     "name": "stdout",
     "output_type": "stream",
     "text": [
      "Accuracy: 0.8504672897196262\n"
     ]
    }
   ],
   "source": [
    "MLP = MLPClassifier(random_state=10, hidden_layer_sizes=(200,100), activation='identity', learning_rate='adaptive', max_iter=300).fit(Xlr_train,ylr_train)\n",
    "ylp_pred = MLP.predict(Xlr_test)\n",
    "print(\"Accuracy:\",metrics.accuracy_score(ylr_test, ylp_pred))"
   ]
  },
  {
   "cell_type": "code",
   "execution_count": 140,
   "id": "2f622228",
   "metadata": {},
   "outputs": [
    {
     "name": "stdout",
     "output_type": "stream",
     "text": [
      "Accuracy: 0.8411214953271028\n"
     ]
    }
   ],
   "source": [
    "MLP = MLPClassifier(random_state=10, hidden_layer_sizes=(100,100), activation='tanh', learning_rate='adaptive', max_iter=300).fit(Xlr_train,ylr_train)\n",
    "ylp_pred = MLP.predict(Xlr_test)\n",
    "print(\"Accuracy:\",metrics.accuracy_score(ylr_test, ylp_pred))"
   ]
  },
  {
   "cell_type": "code",
   "execution_count": null,
   "id": "1cfc2406",
   "metadata": {},
   "outputs": [],
   "source": []
  }
 ],
 "metadata": {
  "kernelspec": {
   "display_name": "Python 3",
   "language": "python",
   "name": "python3"
  },
  "language_info": {
   "codemirror_mode": {
    "name": "ipython",
    "version": 3
   },
   "file_extension": ".py",
   "mimetype": "text/x-python",
   "name": "python",
   "nbconvert_exporter": "python",
   "pygments_lexer": "ipython3",
   "version": "3.8.8"
  }
 },
 "nbformat": 4,
 "nbformat_minor": 5
}
